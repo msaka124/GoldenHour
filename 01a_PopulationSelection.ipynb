{
 "cells": [
  {
   "cell_type": "code",
   "execution_count": 1,
   "id": "c7bae444-51f5-45c9-ab44-1727153e5ab6",
   "metadata": {},
   "outputs": [
    {
     "name": "stderr",
     "output_type": "stream",
     "text": [
      "Matplotlib is building the font cache; this may take a moment.\n"
     ]
    }
   ],
   "source": [
    "import numpy as np\n",
    "import pandas as pd\n",
    "import pyreadstat\n",
    "import matplotlib.pyplot as plt"
   ]
  },
  {
   "cell_type": "markdown",
   "id": "5e4fb663-4158-44da-ae22-c85f580ac7f0",
   "metadata": {
    "tags": []
   },
   "source": [
    "### (not necessary) Study Trauma Prearrival Activation Paramenter\n",
    "Edisposition.24 destination team pre-arrival alert/activation (FACTPCRDESTINATIONTEAM)\n",
    "> adult trauma or   trauma (general)  or trauma (peds); since 16 may be peds activation in certain hospital)"
   ]
  },
  {
   "cell_type": "code",
   "execution_count": 5,
   "id": "4c5dba75-8d6c-4a4e-946b-af5f43d1de3d",
   "metadata": {},
   "outputs": [
    {
     "ename": "NameError",
     "evalue": "name 'destination_df' is not defined",
     "output_type": "error",
     "traceback": [
      "\u001b[0;31m---------------------------------------------------------------------------\u001b[0m",
      "\u001b[0;31mNameError\u001b[0m                                 Traceback (most recent call last)",
      "Cell \u001b[0;32mIn[5], line 1\u001b[0m\n\u001b[0;32m----> 1\u001b[0m destination_df\u001b[38;5;241m.\u001b[39msample()\n",
      "\u001b[0;31mNameError\u001b[0m: name 'destination_df' is not defined"
     ]
    }
   ],
   "source": [
    "destination_df.sample()"
   ]
  },
  {
   "cell_type": "code",
   "execution_count": 7,
   "id": "17c38cd2-2e4f-4dcd-8553-b51c343472e0",
   "metadata": {},
   "outputs": [],
   "source": [
    "# Create a dictionary for mapping old index values to new ones\n",
    "index_map = {\n",
    "    '4224001':'No',\n",
    "    '4224003':'Yes-Adult Trauma',\n",
    "    '4224005':'Yes-Cardiac Arrest',\n",
    "    '4224007':'Yes-Obstetrics',\n",
    "    '4224009':'Yes-Other',\n",
    "    '4224011':'Yes-Pediatric Trauma',\n",
    "    '4224013':'Yes-STEMI',\n",
    "    '4224015':'Yes-Stroke',\n",
    "    '4224017':'Yes-Trauma (General)',\n",
    "    '4224019':'Yes-Sepsis',\n",
    "    '7701001':'Not Applicable',\n",
    "    '7701003':'Not Recorded',\n",
    "}"
   ]
  },
  {
   "cell_type": "code",
   "execution_count": 9,
   "id": "716f2d8b-931e-495b-aa67-60c394b8b815",
   "metadata": {},
   "outputs": [
    {
     "ename": "NameError",
     "evalue": "name 'destination_df' is not defined",
     "output_type": "error",
     "traceback": [
      "\u001b[0;31m---------------------------------------------------------------------------\u001b[0m",
      "\u001b[0;31mNameError\u001b[0m                                 Traceback (most recent call last)",
      "Cell \u001b[0;32mIn[9], line 1\u001b[0m\n\u001b[0;32m----> 1\u001b[0m destination_count \u001b[38;5;241m=\u001b[39m destination_df[\u001b[38;5;124m'\u001b[39m\u001b[38;5;124meDisposition_24\u001b[39m\u001b[38;5;124m'\u001b[39m]\u001b[38;5;241m.\u001b[39mvalue_counts(normalize\u001b[38;5;241m=\u001b[39m\u001b[38;5;28;01mTrue\u001b[39;00m)\u001b[38;5;241m*\u001b[39m\u001b[38;5;241m100\u001b[39m\n\u001b[1;32m      3\u001b[0m \u001b[38;5;66;03m# Rename the index using the dictionary\u001b[39;00m\n\u001b[1;32m      4\u001b[0m destination_count\u001b[38;5;241m.\u001b[39mrename(index\u001b[38;5;241m=\u001b[39mindex_map, inplace\u001b[38;5;241m=\u001b[39m\u001b[38;5;28;01mTrue\u001b[39;00m)\n",
      "\u001b[0;31mNameError\u001b[0m: name 'destination_df' is not defined"
     ]
    }
   ],
   "source": [
    "destination_count = destination_df['eDisposition_24'].value_counts(normalize=True)*100\n",
    "\n",
    "# Rename the index using the dictionary\n",
    "destination_count.rename(index=index_map, inplace=True)\n",
    "\n",
    "destination_count"
   ]
  },
  {
   "cell_type": "code",
   "execution_count": null,
   "id": "f41dce11-471d-4bf0-b9ea-5e8aa814081a",
   "metadata": {},
   "outputs": [],
   "source": [
    "destination_count = destination_df['eDisposition_24'].value_counts()\n",
    "\n",
    "# Rename the index using the dictionary\n",
    "destination_count.rename(index=index_map, inplace=True)\n",
    "\n",
    "destination_count"
   ]
  },
  {
   "cell_type": "code",
   "execution_count": null,
   "id": "d8ca4c5d-fdcd-45d0-bdba-786475514a6f",
   "metadata": {},
   "outputs": [],
   "source": [
    "len(destination_df)"
   ]
  },
  {
   "cell_type": "markdown",
   "id": "1c8b0816-9a07-4040-8d99-32c0116399d0",
   "metadata": {
    "tags": []
   },
   "source": [
    "### (not necessary) Study Trauma Triage Criteria"
   ]
  },
  {
   "cell_type": "code",
   "execution_count": null,
   "id": "689b4363-a3f3-4fe5-abca-9663106a2aa4",
   "metadata": {},
   "outputs": [],
   "source": [
    "# import einjury_03 (trauma criteria for severe injury)\n",
    "traumacriteria_df, _ = pyreadstat.read_sas7bdat('/Volumes/Research/GoldenHourData/NEMSISRawFiles/factpcrtraumacriteria.sas7bdat', )\n",
    "\n",
    "# import einjury_04 (trauma criteria for moderate injury)\n",
    "pcrinjuryrisk_df, _ = pyreadstat.read_sas7bdat('/Volumes/Research/GoldenHourData/NEMSISRawFiles/factpcrinjuryriskfactor.sas7bdat', )\n"
   ]
  },
  {
   "cell_type": "code",
   "execution_count": null,
   "id": "916c7145-b589-46f2-bf35-39d2ce07273b",
   "metadata": {},
   "outputs": [],
   "source": [
    "traumacriteria_df.sample()"
   ]
  },
  {
   "cell_type": "code",
   "execution_count": null,
   "id": "e0fa5253-36a4-4221-931c-5787556d28ef",
   "metadata": {},
   "outputs": [],
   "source": [
    "high_risk = traumacriteria_df['eInjury_03']\n",
    "high_nonapplicable_idx = (high_risk == '7701001') | (high_risk == '7701003') | (high_risk == '8801015')\n",
    "high_null_idx = high_risk.isnull()\n",
    "high_risk_idx = ~(high_nonapplicable_idx | high_null_idx)\n"
   ]
  },
  {
   "cell_type": "code",
   "execution_count": null,
   "id": "cdaff2d0-985f-4cbf-acb4-e572bd79b199",
   "metadata": {},
   "outputs": [],
   "source": [
    "# find cases without moderate risk trauma criteria\n",
    "moderate_risk = pcrinjuryrisk_df['eInjury_04']\n",
    "moderate_nonapplicable_idx = (moderate_risk == '7701001') | (moderate_risk == '7701003') | (moderate_risk == '8801015')\n",
    "moderate_null_idx = moderate_risk.isnull()\n",
    "moderate_risk_idx = ~(moderate_nonapplicable_idx | moderate_null_idx)"
   ]
  },
  {
   "cell_type": "code",
   "execution_count": null,
   "id": "18ec27a9-a642-4d7e-93f2-6ab6942ffe9b",
   "metadata": {},
   "outputs": [],
   "source": [
    "print(\"may contain duplications\")\n",
    "print(f\"# high risk cases: {len(traumacriteria_df[high_risk_idx])}\")\n",
    "print(f\"# moderate risk cases: {len(pcrinjuryrisk_df[moderate_risk_idx])}\")"
   ]
  },
  {
   "cell_type": "markdown",
   "id": "ff9e92e1-11c2-435c-b53f-a48936a28213",
   "metadata": {
    "tags": []
   },
   "source": [
    "## Inclusion Criteria\n",
    "\n",
    "Einjury.01- cause of injury (factpcrcauseofinjury)\n",
    "> cause of injury. include the following icd codes: ICD-10-CM: S00-S99, T07, T14, T20-T28 and T30-T32?\n",
    "\n",
    "Edisposition.21- type of destination (PUB_PCREVENTS)\n",
    "> Hospital- ED, hospital (i.e. Folks who were sent to the ED)\n",
    "\n",
    "EPatient. 15 Age (PUB_PCREVENTS)\n",
    "> Limit to age ≥16 years (may have to look at epatient age units for \"years\"\n",
    "\n",
    "Edisposition.24 destination team pre-arrival alert/activation (FACTPCRDESTINATIONTEAM)\n",
    "> adult trauma or   trauma (general)  or trauma (peds); since 16 may be peds activation in certain hospital)\n",
    "\n",
    "EInjury.02: (***state data only***)\n",
    "> include only patients where code= \"blunt\" or \"penetrating\" \n",
    "I.e. Exclude burn\n",
    "Delineate: blunt vs penetrating\n",
    "\n",
    "Edisposition16: ems transport method (PUB_PCREVENTS)\n",
    "> Delineate whether air or ground \n",
    "Can exclude if water \n",
    "\n",
    "Following above should give us patients ≥16 years who were transported by ground or air ambulance to an ED after blunt or penetrating injury, and prompted trauma activation at receiving facilities"
   ]
  },
  {
   "cell_type": "markdown",
   "id": "2acbd7c4-6c97-4a10-af09-c154b81d9331",
   "metadata": {
    "tags": []
   },
   "source": [
    "### Filter: ICD codes\n",
    "\n",
    "Based on the following:\n",
    "- einjury01 > factpcrcauseofinjury.sas7bdat\n",
    "- esituation09 > factpcrprimarysymptom.sas7bdat\n",
    "- esituation10 > factpcradditionalsymptom.sas7bdat\n",
    "- esituation11 > factpcrprimaryimpression.sas7bdat\n",
    "- esituation12 > factpcrsecondaryimpression.sas7bdat"
   ]
  },
  {
   "cell_type": "code",
   "execution_count": 3,
   "id": "cd2bc216-ef9b-4eb5-a5cf-866646e52c44",
   "metadata": {},
   "outputs": [],
   "source": [
    "# list trauma icd code to select\n",
    "s_icd_code = [f'S{x:02}'for x in range(0,100)]\n",
    "t_icd_code = ['T07', 'T14', 'T20','T21','T22','T23','T24','T25','T26','T27','T28', 'T30','T31','T32']\n",
    "trauma_icd_code = s_icd_code + t_icd_code"
   ]
  },
  {
   "cell_type": "code",
   "execution_count": 5,
   "id": "c20350f4-3f49-42d1-b329-c661e53c2769",
   "metadata": {},
   "outputs": [],
   "source": [
    "def icd_filter(df, col_name, trauma_icd_code):\n",
    "    # break icd codes into primary codes\n",
    "    df[f'{col_name}_primary'] = df[col_name].apply(lambda x: x[:x.find(\".\")] if (x.find(\".\") != -1) else x)\n",
    "    df[f'{col_name}_secondary'] = df[col_name].apply(lambda x: x[(x.find(\".\")+1):] if (x.find(\".\") != -1) else np.nan)\n",
    "\n",
    "    # find cases that meet prespecified trauma code\n",
    "    df['meets_code_criteria'] = df[f'{col_name}_primary'].isin(trauma_icd_code)\n",
    "\n",
    "    print(f\"# unique cases reported: {df['PcrKey'].unique().shape}\")\n",
    "    print(f\"# cases that meet ICD trauma code: {df.loc[df['meets_code_criteria'], 'PcrKey'].unique().shape}\")"
   ]
  },
  {
   "cell_type": "code",
   "execution_count": 7,
   "id": "44162b1d-62a9-40ef-96b1-3c1d2e3e25e4",
   "metadata": {},
   "outputs": [
    {
     "name": "stdout",
     "output_type": "stream",
     "text": [
      "# unique cases reported: (54190579,)\n",
      "# cases that meet ICD trauma code: (171578,)\n"
     ]
    }
   ],
   "source": [
    "# einjury01 - cause of injury\n",
    "injury_df, _ = pyreadstat.read_sas7bdat('/Volumes/Research/GoldenHourData/NEMSISRawFiles/factpcrcauseofinjury.sas7bdat')\n",
    "\n",
    "#ICD PICR using einjury_01\n",
    "\n",
    "\n",
    "icd_filter(injury_df, 'eInjury_01', trauma_icd_code)"
   ]
  },
  {
   "cell_type": "code",
   "execution_count": 8,
   "id": "51eaf021-5841-4349-ac90-7c62adfc946f",
   "metadata": {},
   "outputs": [
    {
     "name": "stdout",
     "output_type": "stream",
     "text": [
      "# unique cases reported: (53378210,)\n",
      "# cases that meet ICD trauma code: (1691842,)\n"
     ]
    }
   ],
   "source": [
    "# esituation09 - primary symptom\n",
    "primary_sx_df, _ = pyreadstat.read_sas7bdat('/Volumes/Research/GoldenHourData/NEMSISRawFiles/factpcrprimarysymptom.sas7bdat')\n",
    "\n",
    "icd_filter(primary_sx_df, 'eSituation_09', trauma_icd_code)"
   ]
  },
  {
   "cell_type": "code",
   "execution_count": 9,
   "id": "2d712314-b9bd-44e9-a372-4d399dcf346a",
   "metadata": {},
   "outputs": [
    {
     "name": "stdout",
     "output_type": "stream",
     "text": [
      "# unique cases reported: (53462643,)\n",
      "# cases that meet ICD trauma code: (697103,)\n"
     ]
    }
   ],
   "source": [
    "# esituation10 - additional symptom\n",
    "additional_sx_df, _ = pyreadstat.read_sas7bdat('/Volumes/Research/GoldenHourData/NEMSISRawFiles/factpcradditionalsymptom.sas7bdat')\n",
    "\n",
    "icd_filter(additional_sx_df, 'eSituation_10', trauma_icd_code)"
   ]
  },
  {
   "cell_type": "code",
   "execution_count": 10,
   "id": "1ad6e3f9-1e40-4dff-88e4-e0a5733c5b5d",
   "metadata": {},
   "outputs": [
    {
     "name": "stdout",
     "output_type": "stream",
     "text": [
      "# unique cases reported: (52982979,)\n",
      "# cases that meet ICD trauma code: (4235041,)\n"
     ]
    }
   ],
   "source": [
    "# esituation11 - primary impression\n",
    "primary_imp_df, _ = pyreadstat.read_sas7bdat('/Volumes/Research/GoldenHourData/NEMSISRawFiles/factpcrprimaryimpression.sas7bdat')\n",
    "\n",
    "icd_filter(primary_imp_df, 'eSituation_11', trauma_icd_code)"
   ]
  },
  {
   "cell_type": "code",
   "execution_count": 11,
   "id": "1741aff1-79fa-4141-bcfd-fa22db71e527",
   "metadata": {},
   "outputs": [
    {
     "name": "stdout",
     "output_type": "stream",
     "text": [
      "# unique cases reported: (53064818,)\n",
      "# cases that meet ICD trauma code: (1012799,)\n"
     ]
    }
   ],
   "source": [
    "# esituation12 - secondary impression\n",
    "secondary_imp_df, _ = pyreadstat.read_sas7bdat('/Volumes/Research/GoldenHourData/NEMSISRawFiles/factpcrsecondaryimpression.sas7bdat')\n",
    "\n",
    "icd_filter(secondary_imp_df, 'eSituation_12', trauma_icd_code)"
   ]
  },
  {
   "cell_type": "code",
   "execution_count": 12,
   "id": "17a1652b-4a7f-4cc5-aa7f-9ad6a8dc32ae",
   "metadata": {},
   "outputs": [],
   "source": [
    "# get unique pcrkey corresponding to trauma icd codes\n",
    "COI_pcrkey = injury_df.loc[injury_df['meets_code_criteria'], 'PcrKey'].unique().tolist()\n",
    "primary_sx_pcrkey = primary_sx_df.loc[primary_sx_df['meets_code_criteria'], 'PcrKey'].unique().tolist()\n",
    "additional_sx_pcrkey = additional_sx_df.loc[additional_sx_df['meets_code_criteria'], 'PcrKey'].unique().tolist()\n",
    "primary_imp_pcrkey = primary_imp_df.loc[primary_imp_df['meets_code_criteria'], 'PcrKey'].unique().tolist()\n",
    "secondary_imp_pcrkey = secondary_imp_df.loc[secondary_imp_df['meets_code_criteria'], 'PcrKey'].unique().tolist()"
   ]
  },
  {
   "cell_type": "code",
   "execution_count": 13,
   "id": "a3a2f6c6-bb2f-4e90-bef7-173c14b33498",
   "metadata": {},
   "outputs": [
    {
     "name": "stdout",
     "output_type": "stream",
     "text": [
      "Final # cases that meet ICD trauma code: 5550218\n"
     ]
    }
   ],
   "source": [
    "# combine all pcrkey to get one master unique key\n",
    "# Note shared pcrkey may exist across data\n",
    "sx_pcrkey = list(set(primary_sx_pcrkey + additional_sx_pcrkey))\n",
    "imp_pcrkey = list(set(primary_imp_pcrkey + secondary_imp_pcrkey))\n",
    "final_pcrkey = list(set(COI_pcrkey + sx_pcrkey + imp_pcrkey))\n",
    "\n",
    "print(f\"Final # cases that meet ICD trauma code: {len(final_pcrkey)}\")\n"
   ]
  },
  {
   "cell_type": "code",
   "execution_count": 16,
   "id": "6ce08da0-819f-4c26-b78b-2ec314caff5f",
   "metadata": {},
   "outputs": [],
   "source": [
    "pd.Series(final_pcrkey, name='PcrKey').to_csv('/Volumes/Research/GoldenHourData/InclusionCriteria/FinalPcrKey.csv', index=False)"
   ]
  },
  {
   "cell_type": "markdown",
   "id": "caa65b13-7541-4800-b90d-dc902e67e95b",
   "metadata": {
    "tags": []
   },
   "source": [
    "### Filter: Age, Destination, Transportation Method\n"
   ]
  },
  {
   "cell_type": "markdown",
   "id": "10ae07aa-1d78-48fa-a241-9d7ffc63bad5",
   "metadata": {},
   "source": [
    "- note: future analysis should note that some cases have multiple injury descriptions"
   ]
  },
  {
   "cell_type": "code",
   "execution_count": 18,
   "id": "ac32d0d9-b8c2-496e-b327-a731b77ba573",
   "metadata": {},
   "outputs": [],
   "source": [
    "final_pcrkey = pd.read_csv('/Volumes/Research/GoldenHourData/InclusionCriteria/FinalPcrKey.csv')"
   ]
  },
  {
   "cell_type": "code",
   "execution_count": 19,
   "id": "8c816242-0e59-43d2-97ce-559f967d4b2b",
   "metadata": {},
   "outputs": [],
   "source": [
    "# edisposition.21, edisposition.15, edisposition.16\n",
    "disposition_df, _ = pyreadstat.read_sas7bdat('/Volumes/Research/GoldenHourData/NEMSISRawFiles/pub_pcrevents.sas7bdat', \n",
    "                                           usecols=[\"PcrKey\", \"ePatient_15\", \"eDisposition_16\", \"eDisposition_21\"])"
   ]
  },
  {
   "cell_type": "code",
   "execution_count": 20,
   "id": "130a9c30-b3b1-4c2b-b708-356e76a91933",
   "metadata": {},
   "outputs": [],
   "source": [
    "# merge disposition data to filtered trauma data\n",
    "trauma_dispo_df = final_pcrkey.merge(disposition_df, left_on='PcrKey', right_on='PcrKey', how='left', validate='1:1')\n"
   ]
  },
  {
   "cell_type": "code",
   "execution_count": 30,
   "id": "57dcd722-fa16-4284-bea5-64b7f4f2b8fb",
   "metadata": {},
   "outputs": [
    {
     "name": "stdout",
     "output_type": "stream",
     "text": [
      "# age (not applicable): 0\n",
      "# age (not recorded): 0\n",
      "# of null age data: 0\n",
      "# cases < 16 yo: 372835\n",
      "# cases >= 16 yo: 5177383\n"
     ]
    }
   ],
   "source": [
    "# filter out age < 16\n",
    "trauma_dispo_a_df = trauma_dispo_df[trauma_dispo_df['ePatient_15'] >= 16]\n",
    "print(f\"# age (not applicable): {(trauma_dispo_a_df['ePatient_15'] == '7701001').sum()}\")\n",
    "print(f\"# age (not recorded): {(trauma_dispo_a_df['ePatient_15'] == '7701003').sum()}\")\n",
    "print(f\"# of null age data: {trauma_dispo_df['ePatient_15'].isnull().sum()}\")\n",
    "print(f\"# cases < 16 yo: {len(trauma_dispo_df) - len(trauma_dispo_a_df)}\")\n",
    "print(f\"# cases >= 16 yo: {len(trauma_dispo_a_df)}\")"
   ]
  },
  {
   "cell_type": "code",
   "execution_count": 32,
   "id": "b4396a9f-8298-4479-a101-3f773c91e5f6",
   "metadata": {},
   "outputs": [
    {
     "name": "stdout",
     "output_type": "stream",
     "text": [
      "# of null destination data: 0\n"
     ]
    },
    {
     "data": {
      "text/plain": [
       "eDisposition_21\n",
       "Hospital-Emergency Department            3552898\n",
       "Not Applicable                            629697\n",
       "Not Recorded                              475475\n",
       "Hospital-Non-Emergency Department Bed     273254\n",
       "Nursing Home/Assisted Living Facility      80379\n",
       "Other                                      39270\n",
       "Other EMS Responder (ground)               31498\n",
       "Home                                       25533\n",
       "Freestanding Emergency Department          21760\n",
       "Clinic                                     20825\n",
       "Other EMS Responder (air)                  19137\n",
       "Morgue/Mortuary                             5357\n",
       "Police/Jail                                 1342\n",
       "Urgent Care                                  958\n",
       "Name: count, dtype: int64"
      ]
     },
     "execution_count": 32,
     "metadata": {},
     "output_type": "execute_result"
    }
   ],
   "source": [
    "# filter for destination of ED or hospital\n",
    "print(f\"# of null destination data: {trauma_dispo_df['eDisposition_21'].isnull().sum()}\")\n",
    "\n",
    "destination_count = trauma_dispo_a_df['eDisposition_21'].value_counts()\n",
    "# Create a dictionary for mapping old index values to new ones\n",
    "index_map = {\n",
    "    \"4221001\":'Home',\n",
    "    \"4221003\":'Hospital-Emergency Department',\n",
    "    \"4221005\":'Hospital-Non-Emergency Department Bed',\n",
    "    \"4221007\":'Clinic',\n",
    "    \"4221009\":'Morgue/Mortuary',\n",
    "    \"4221011\": 'Nursing Home/Assisted Living Facility',\n",
    "    \"4221013\":'Other',\n",
    "    \"4221015\":'Other EMS Responder (air)',\n",
    "    \"4221017\":'Other EMS Responder (ground)',\n",
    "    '4221019':'Police/Jail',\n",
    "    '4221021':'Urgent Care',\n",
    "    '4221023':'Freestanding Emergency Department',\n",
    "    '4221025':'Dialysis Center',\n",
    "    '4221027':'Diagnostic Services',\n",
    "    '4221029':'Assisted Living Facility',\n",
    "    '4221031':'Mental Health Facility',\n",
    "    '4221033':'Nursing Home',\n",
    "    '4221035':'Other Recurring Care Center',\n",
    "    '4221037':'Physical Rehabilitation Facility',\n",
    "    '4221039':'Drug and/or Alcohol Rehabilitation Facility',\n",
    "    '4221041':'Skilled Nursing Facility',\n",
    "    '7701001':'Not Applicable',\n",
    "    '7701003':'Not Recorded',\n",
    "}\n",
    "\n",
    "# Rename the index using the dictionary\n",
    "destination_count.rename(index=index_map, inplace=True)\n",
    "\n",
    "destination_count"
   ]
  },
  {
   "cell_type": "code",
   "execution_count": 34,
   "id": "5170353a-2f81-4cab-836f-cb453b578963",
   "metadata": {},
   "outputs": [
    {
     "name": "stdout",
     "output_type": "stream",
     "text": [
      "# cases other destination: 1351231\n",
      "# cases hospital or ED destination: 3826152\n"
     ]
    }
   ],
   "source": [
    "dest_idx = (trauma_dispo_a_df['eDisposition_21'] == '4221003') | (trauma_dispo_a_df['eDisposition_21'] == '4221005')\n",
    "trauma_dispo_ad_df = trauma_dispo_a_df[dest_idx]\n",
    "\n",
    "print(f\"# cases other destination: {len(trauma_dispo_a_df) - len(trauma_dispo_ad_df)}\")\n",
    "print(f\"# cases hospital or ED destination: {len(trauma_dispo_ad_df)}\")"
   ]
  },
  {
   "cell_type": "code",
   "execution_count": 36,
   "id": "754688a8-e711-4ca4-8fa3-c5f2076d72f1",
   "metadata": {},
   "outputs": [
    {
     "name": "stdout",
     "output_type": "stream",
     "text": [
      "# of null transportation data: 0\n"
     ]
    },
    {
     "data": {
      "text/plain": [
       "eDisposition_16\n",
       "Ground-Ambulance                    3596306\n",
       "Not Recorded                         120046\n",
       "Air Medical-Rotor Craft               59093\n",
       "Not Applicable                        26735\n",
       "Ground-ATV or Rescue Vehicle          11708\n",
       "Ground-Other Not Listed                6252\n",
       "Air Medical-Fixed Wing                 4831\n",
       "Ground-Bariatric                        676\n",
       "Ground-Mass Casualty Bus/Vehicle        406\n",
       "Ground-Wheelchair Van                    54\n",
       "Water-Boat                               45\n",
       "Name: count, dtype: int64"
      ]
     },
     "execution_count": 36,
     "metadata": {},
     "output_type": "execute_result"
    }
   ],
   "source": [
    "# filter for transportation methods\n",
    "print(f\"# of null transportation data: {trauma_dispo_df['eDisposition_16'].isnull().sum()}\")\n",
    "\n",
    "transportation_count = trauma_dispo_ad_df['eDisposition_16'].value_counts()\n",
    "# Create a dictionary for mapping old index values to new ones\n",
    "index_map = {\n",
    "    \"4216001\":\"Air Medical-Fixed Wing\",\n",
    "    \"4216003\":\"Air Medical-Rotor Craft\",\n",
    "    \"4216005\":\"Ground-Ambulance\",\n",
    "    \"4216007\":\"Ground-ATV or Rescue Vehicle\",\n",
    "    \"4216009\":\"Ground-Bariatric\",\n",
    "    \"4216011\":\"Ground-Other Not Listed\",\n",
    "    \"4216013\":\"Ground-Mass Casualty Bus/Vehicle\",\n",
    "    \"4216015\":\"Ground-Wheelchair Van\",\n",
    "    \"4216017\":\"Water-Boat\",\n",
    "    \"7701001\":\"Not Applicable\",\n",
    "    \"7701003\":\"Not Recorded\",\n",
    "}\n",
    "\n",
    "# Rename the index using the dictionary\n",
    "transportation_count.rename(index=index_map, inplace=True)\n",
    "\n",
    "transportation_count"
   ]
  },
  {
   "cell_type": "code",
   "execution_count": 37,
   "id": "c9c06e62-6c42-44fc-b3bc-28bf076def5f",
   "metadata": {
    "scrolled": true,
    "tags": []
   },
   "outputs": [
    {
     "name": "stderr",
     "output_type": "stream",
     "text": [
      "/var/folders/wh/cyttf30j19xf6hc1n4ysxr640000gn/T/ipykernel_1902/3921748740.py:10: SettingWithCopyWarning: \n",
      "A value is trying to be set on a copy of a slice from a DataFrame.\n",
      "Try using .loc[row_indexer,col_indexer] = value instead\n",
      "\n",
      "See the caveats in the documentation: https://pandas.pydata.org/pandas-docs/stable/user_guide/indexing.html#returning-a-view-versus-a-copy\n",
      "  trauma_dispo_ad_df['transport_method'] = np.nan\n",
      "/var/folders/wh/cyttf30j19xf6hc1n4ysxr640000gn/T/ipykernel_1902/3921748740.py:11: FutureWarning: Setting an item of incompatible dtype is deprecated and will raise an error in a future version of pandas. Value 'ground' has dtype incompatible with float64, please explicitly cast to a compatible dtype first.\n",
      "  trauma_dispo_ad_df.loc[ground_idx, 'transport_method'] = 'ground'\n"
     ]
    }
   ],
   "source": [
    "ground_transport_code = ['4216005', '4216007', '4216009', '4216011', '4216013', '4216015']\n",
    "air_transport_code = ['4216003']\n",
    "trans_col = trauma_dispo_ad_df['eDisposition_16']\n",
    "\n",
    "# find idx with ground or air transport\n",
    "ground_idx = trans_col.isin(ground_transport_code)\n",
    "air_idx = trans_col.isin(air_transport_code)\n",
    "\n",
    "# create column for transport method\n",
    "trauma_dispo_ad_df['transport_method'] = np.nan\n",
    "trauma_dispo_ad_df.loc[ground_idx, 'transport_method'] = 'ground'\n",
    "trauma_dispo_ad_df.loc[air_idx, 'transport_method'] = 'air'"
   ]
  },
  {
   "cell_type": "code",
   "execution_count": 39,
   "id": "9f902817-8e01-410b-9091-bd6b0febb4cb",
   "metadata": {},
   "outputs": [
    {
     "name": "stdout",
     "output_type": "stream",
     "text": [
      "# cases w/o desired transport: 151657\n",
      "# cases w/ desired transport: 3674495\n"
     ]
    }
   ],
   "source": [
    "# filter for only desired ground or air transport code\n",
    "trauma_dispo_adt_df = trauma_dispo_ad_df[ground_idx | air_idx]\n",
    "\n",
    "print(f\"# cases w/o desired transport: {len(trauma_dispo_ad_df) - len(trauma_dispo_adt_df)}\")\n",
    "print(f\"# cases w/ desired transport: {len(trauma_dispo_adt_df)}\")"
   ]
  },
  {
   "cell_type": "code",
   "execution_count": 42,
   "id": "9f466519-250d-432b-b4ac-ea65cc154806",
   "metadata": {},
   "outputs": [],
   "source": [
    "trauma_dispo_adt_df.to_csv('/Volumes/Research/GoldenHourData/InclusionCriteria/InclusionCriteriaDataWithoutActivation.csv', index=False)"
   ]
  },
  {
   "cell_type": "markdown",
   "id": "d5d8a282-b351-4ad0-a373-c90db52744db",
   "metadata": {
    "tags": []
   },
   "source": [
    "### Exclude population too injured\n",
    "\n",
    "- remove on scene death (edisposition.12) - pub_pcrevents"
   ]
  },
  {
   "cell_type": "code",
   "execution_count": 3,
   "id": "cfa23154-b65b-4fe3-aa26-af0921c4c7d6",
   "metadata": {},
   "outputs": [],
   "source": [
    "trauma_dispo_adt_df = pd.read_csv('/Volumes/Research/GoldenHourData/InclusionCriteria/InclusionCriteriaDataWithoutActivation.csv')"
   ]
  },
  {
   "cell_type": "code",
   "execution_count": 4,
   "id": "d9bd54a2-ca4b-4942-8e86-79ecc8224051",
   "metadata": {},
   "outputs": [],
   "source": [
    "# edisposition.12\n",
    "disposition_df, _ = pyreadstat.read_sas7bdat('/Volumes/Research/GoldenHourData/NEMSISRawFiles/pub_pcrevents.sas7bdat', \n",
    "                                           usecols=[\"PcrKey\", \"eDisposition_12\"])\n",
    "\n",
    "# trauma_dispo_adt_df"
   ]
  },
  {
   "cell_type": "code",
   "execution_count": 5,
   "id": "7575263b-719d-4b0b-881c-4c890290f65c",
   "metadata": {},
   "outputs": [],
   "source": [
    "exclude1_df = trauma_dispo_adt_df.merge(disposition_df, on='PcrKey', how='left', validate='1:1')"
   ]
  },
  {
   "cell_type": "code",
   "execution_count": 6,
   "id": "23fccfb7-b05e-4c29-99e3-634fbc9adb45",
   "metadata": {
    "scrolled": true,
    "tags": []
   },
   "outputs": [
    {
     "name": "stdout",
     "output_type": "stream",
     "text": [
      "# null edisposition12: 0\n"
     ]
    },
    {
     "data": {
      "text/plain": [
       "eDisposition_12\n",
       "4212033                                                                 3519472\n",
       "4212031                                                                  115262\n",
       "4212027                                                                   12227\n",
       "4212029                                                                    8729\n",
       "4212025                                                                    7424\n",
       "4212005                                                                    2723\n",
       "4212021                                                                    2222\n",
       "4212023                                                                    2067\n",
       "4212001                                                                    1685\n",
       "4212037                                                                     711\n",
       "4212035                                                                     488\n",
       "Patient Dead at Scene-No Resuscitation Attempted (Without Transport)        349\n",
       "4212009                                                                     180\n",
       "Patient Dead at Scene-No Resuscitation Attempted (With Transport)           164\n",
       "4212007                                                                     131\n",
       "4212003                                                                     129\n",
       "4212041                                                                     128\n",
       "Patient Dead at Scene-Resuscitation Attempted (With Transport)              123\n",
       "Patient Dead at Scene-Resuscitation Attempted (Without Transport)           119\n",
       "4212011                                                                     111\n",
       "4212043                                                                      30\n",
       "4212039                                                                      21\n",
       "Name: count, dtype: int64"
      ]
     },
     "execution_count": 6,
     "metadata": {},
     "output_type": "execute_result"
    }
   ],
   "source": [
    "index_map = {\n",
    "    \"4212013\":'Patient Dead at Scene-No Resuscitation Attempted (With Transport)',\n",
    "    \"4212015\":'Patient Dead at Scene-No Resuscitation Attempted (Without Transport)',\n",
    "    \"4212017\":'Patient Dead at Scene-Resuscitation Attempted (With Transport)',\n",
    "    \"4212019\":'Patient Dead at Scene-Resuscitation Attempted (Without Transport)',\n",
    "}\n",
    "\n",
    "print(f\"# null edisposition12: {exclude1_df['eDisposition_12'].isnull().sum()}\")\n",
    "eDisposition12_count = exclude1_df['eDisposition_12'].value_counts()\n",
    "\n",
    "# Rename the index using the dictionary\n",
    "eDisposition12_count.rename(index=index_map, inplace=True)\n",
    "eDisposition12_count"
   ]
  },
  {
   "cell_type": "code",
   "execution_count": 7,
   "id": "bb97b826-2f9f-4107-b244-56fdeb4e4a3f",
   "metadata": {},
   "outputs": [],
   "source": [
    "# remove all instances of dead at scene\n",
    "exclude_eDispo12_code = [\"4212013\", \"4212015\", \"4212017\", \"4212019\"]\n",
    "eDispos12_remove_idx = exclude1_df['eDisposition_12'].isin(exclude_eDispo12_code)\n",
    "exclude1_removed_df = exclude1_df[~eDispos12_remove_idx]\n"
   ]
  },
  {
   "cell_type": "code",
   "execution_count": 8,
   "id": "e03032b8-f4ee-4b12-b366-93423b20943c",
   "metadata": {},
   "outputs": [
    {
     "name": "stdout",
     "output_type": "stream",
     "text": [
      "# patients (pre exclusion severe injury): 3674495\n",
      "# patients (post exclusion severe injury): 3673740\n",
      "# severe injuries: 755\n"
     ]
    }
   ],
   "source": [
    "print(f\"# patients (pre exclusion severe injury): {len(exclude1_df)}\")\n",
    "print(f\"# patients (post exclusion severe injury): {len(exclude1_removed_df)}\")\n",
    "print(f\"# severe injuries: {len(exclude1_df) - len(exclude1_removed_df)}\")"
   ]
  },
  {
   "cell_type": "markdown",
   "id": "88f5cad1-4da6-4280-8245-3423a414a08a",
   "metadata": {},
   "source": [
    "### exclude population with insignificant injury burden\n",
    "\n",
    "\\(RTS=0.9368\\cdot GCS+0.7326\\cdot SBP+0.2908\\cdot RR\\)\n",
    "\n",
    "- Patients who present with a probability of survival of 36.1% or less are considered severely injured and should be\n",
    "transported to a Level 1 Trauma Center\n",
    "\n",
    "- eVitals.19 - Glasgow Coma Score-Eye - FACTPCRVITAL\n",
    "- eVitals.20 - Glasgow Coma Score-Verbal - FACTPCRVITAL\n",
    "- eVitals.21 - Glasgow Coma Score-Motor - FACTPCRVITAL\n",
    "- eVitals.22 - Glasgow Coma Score-Qualifier - PCRVITALGLASGOWQUALIFIERGROUP\n",
    "\n",
    "- eVitals.06 - SBP (Systolic Blood Pressure) - FACTPCRVITAL\n",
    "\n",
    "- eVitals.14 - Respiratory Rate - FACTPCRVITAL"
   ]
  },
  {
   "cell_type": "code",
   "execution_count": 10,
   "id": "16ec666e-db0e-4049-a805-65f9ad9dc01f",
   "metadata": {},
   "outputs": [],
   "source": [
    "vitals_df = pd.read_csv(\"/Volumes/Research/GoldenHourData/NEMSISRawFiles/factpcrvital_filtered.csv\")"
   ]
  },
  {
   "cell_type": "code",
   "execution_count": 11,
   "id": "f7108c37-ce2e-4356-a243-8256baaca5c8",
   "metadata": {},
   "outputs": [
    {
     "data": {
      "text/html": [
       "<div>\n",
       "<style scoped>\n",
       "    .dataframe tbody tr th:only-of-type {\n",
       "        vertical-align: middle;\n",
       "    }\n",
       "\n",
       "    .dataframe tbody tr th {\n",
       "        vertical-align: top;\n",
       "    }\n",
       "\n",
       "    .dataframe thead th {\n",
       "        text-align: right;\n",
       "    }\n",
       "</style>\n",
       "<table border=\"1\" class=\"dataframe\">\n",
       "  <thead>\n",
       "    <tr style=\"text-align: right;\">\n",
       "      <th></th>\n",
       "      <th>PcrKey</th>\n",
       "      <th>eVitals_06</th>\n",
       "      <th>eVitals_14</th>\n",
       "      <th>eVitals_02</th>\n",
       "      <th>eVitals_19</th>\n",
       "      <th>eVitals_20</th>\n",
       "      <th>eVitals_21</th>\n",
       "      <th>eVitals_01</th>\n",
       "    </tr>\n",
       "  </thead>\n",
       "  <tbody>\n",
       "    <tr>\n",
       "      <th>39517426</th>\n",
       "      <td>241245605.0</td>\n",
       "      <td>7701001.0</td>\n",
       "      <td>7701001.0</td>\n",
       "      <td>9923001</td>\n",
       "      <td>7701001</td>\n",
       "      <td>7701001</td>\n",
       "      <td>7701001</td>\n",
       "      <td>29MAR2023:15:54:30</td>\n",
       "    </tr>\n",
       "  </tbody>\n",
       "</table>\n",
       "</div>"
      ],
      "text/plain": [
       "               PcrKey  eVitals_06  eVitals_14  eVitals_02  eVitals_19  \\\n",
       "39517426  241245605.0   7701001.0   7701001.0     9923001     7701001   \n",
       "\n",
       "          eVitals_20  eVitals_21            eVitals_01  \n",
       "39517426     7701001     7701001    29MAR2023:15:54:30  "
      ]
     },
     "execution_count": 11,
     "metadata": {},
     "output_type": "execute_result"
    }
   ],
   "source": [
    "vitals_df.sample()"
   ]
  },
  {
   "cell_type": "code",
   "execution_count": 12,
   "id": "b7c73c0e-0366-4486-bb4e-32dcd8c8be88",
   "metadata": {},
   "outputs": [
    {
     "name": "stdout",
     "output_type": "stream",
     "text": [
      "# null vitals: 0\n"
     ]
    }
   ],
   "source": [
    "print(f\"# null vitals: {vitals_df.isnull().any().sum()}\")"
   ]
  },
  {
   "cell_type": "code",
   "execution_count": 13,
   "id": "742a4e4c-0ed5-4278-90b4-5b8842f4703f",
   "metadata": {},
   "outputs": [],
   "source": [
    "# find instances where vitals are not applicable, not recorded, or exam not performed\n",
    "valid_SBP = vitals_df['eVitals_06'] < 1000\n",
    "valid_RR = vitals_df['eVitals_14'] < 1000\n",
    "valid_GCS_eye = vitals_df['eVitals_19'] < 10\n",
    "valid_GCS_verbal = vitals_df['eVitals_20'] < 10\n",
    "valid_GCS_motor = vitals_df['eVitals_21'] < 10"
   ]
  },
  {
   "cell_type": "code",
   "execution_count": 14,
   "id": "e3b335ff-a560-4e64-af01-02671b745b58",
   "metadata": {},
   "outputs": [],
   "source": [
    "vitals_remove_invalid_df = vitals_df[valid_SBP & valid_RR & valid_GCS_eye & valid_GCS_verbal & valid_GCS_motor]"
   ]
  },
  {
   "cell_type": "code",
   "execution_count": 15,
   "id": "dac61482-2470-41ef-b657-5262b22b00ab",
   "metadata": {},
   "outputs": [
    {
     "name": "stdout",
     "output_type": "stream",
     "text": [
      "# valid vitals: 70730330\n",
      "# valid vitals: 94029177\n"
     ]
    }
   ],
   "source": [
    "print(f\"# valid vitals: {len(vitals_remove_invalid_df)}\")\n",
    "print(f\"# valid vitals: {len(vitals_df) - len(vitals_remove_invalid_df)}\")"
   ]
  },
  {
   "cell_type": "code",
   "execution_count": 16,
   "id": "383693db-d57f-487a-ad1d-951d31e3b939",
   "metadata": {},
   "outputs": [
    {
     "name": "stderr",
     "output_type": "stream",
     "text": [
      "/var/folders/jy/_pwqg6_s2hvd_mr9rz6j29yc0000gn/T/ipykernel_2746/2426285989.py:2: SettingWithCopyWarning: \n",
      "A value is trying to be set on a copy of a slice from a DataFrame.\n",
      "Try using .loc[row_indexer,col_indexer] = value instead\n",
      "\n",
      "See the caveats in the documentation: https://pandas.pydata.org/pandas-docs/stable/user_guide/indexing.html#returning-a-view-versus-a-copy\n",
      "  vitals_remove_invalid_df['GCS'] = vitals_df['eVitals_19'] + vitals_df['eVitals_20'] + vitals_df['eVitals_21']\n"
     ]
    }
   ],
   "source": [
    "# compute GCS\n",
    "vitals_remove_invalid_df['GCS'] = vitals_df['eVitals_19'] + vitals_df['eVitals_20'] + vitals_df['eVitals_21'] "
   ]
  },
  {
   "cell_type": "code",
   "execution_count": 17,
   "id": "0c3ef9aa-e9a2-4150-bd2b-f3b56d2c41b3",
   "metadata": {},
   "outputs": [],
   "source": [
    "SBP_intervals = pd.DataFrame(columns = ['From','To','Value'], \n",
    "                             data = [[-0.0001,0.0001,0],[0.0001,50,1],[50,75,2],[75,90,3],[90,1000,4]])\n",
    "RR_intervals = pd.DataFrame(columns = ['From','To','Value'], \n",
    "                             data = [[-0.0001,0.0001,0],[0.0001,5,1],[5,9,2],[9,30,4],[30,1000,3]])\n",
    "GCS_intervals = pd.DataFrame(columns = ['From','To','Value'], \n",
    "                             data = [[2.9,3.9,0],[3.9,5.9,1],[5.9,8.9,2],[8.9,12.9,3],[12.9,15.9,4]])"
   ]
  },
  {
   "cell_type": "code",
   "execution_count": 18,
   "id": "8b4446da-9056-4da1-baf9-a9928cd37e32",
   "metadata": {
    "scrolled": true,
    "tags": []
   },
   "outputs": [
    {
     "name": "stderr",
     "output_type": "stream",
     "text": [
      "/var/folders/jy/_pwqg6_s2hvd_mr9rz6j29yc0000gn/T/ipykernel_2746/197714928.py:4: SettingWithCopyWarning: \n",
      "A value is trying to be set on a copy of a slice from a DataFrame.\n",
      "Try using .loc[row_indexer,col_indexer] = value instead\n",
      "\n",
      "See the caveats in the documentation: https://pandas.pydata.org/pandas-docs/stable/user_guide/indexing.html#returning-a-view-versus-a-copy\n",
      "  vitals_remove_invalid_df['SBP_c'] = vitals_remove_invalid_df['eVitals_06'].map(SBP_set_val)\n",
      "/var/folders/jy/_pwqg6_s2hvd_mr9rz6j29yc0000gn/T/ipykernel_2746/197714928.py:8: SettingWithCopyWarning: \n",
      "A value is trying to be set on a copy of a slice from a DataFrame.\n",
      "Try using .loc[row_indexer,col_indexer] = value instead\n",
      "\n",
      "See the caveats in the documentation: https://pandas.pydata.org/pandas-docs/stable/user_guide/indexing.html#returning-a-view-versus-a-copy\n",
      "  vitals_remove_invalid_df['RR_c'] = vitals_remove_invalid_df['eVitals_14'].map(RR_set_val)\n",
      "/var/folders/jy/_pwqg6_s2hvd_mr9rz6j29yc0000gn/T/ipykernel_2746/197714928.py:12: SettingWithCopyWarning: \n",
      "A value is trying to be set on a copy of a slice from a DataFrame.\n",
      "Try using .loc[row_indexer,col_indexer] = value instead\n",
      "\n",
      "See the caveats in the documentation: https://pandas.pydata.org/pandas-docs/stable/user_guide/indexing.html#returning-a-view-versus-a-copy\n",
      "  vitals_remove_invalid_df['GCS_c'] = vitals_remove_invalid_df['GCS'].map(GCS_set_val)\n"
     ]
    }
   ],
   "source": [
    "# code based on RTS code\n",
    "# map SBP \n",
    "SBP_set_val = SBP_intervals.set_index(pd.IntervalIndex.from_arrays(SBP_intervals['From'], SBP_intervals['To']))['Value']\n",
    "vitals_remove_invalid_df['SBP_c'] = vitals_remove_invalid_df['eVitals_06'].map(SBP_set_val)\n",
    "\n",
    "# map RR \n",
    "RR_set_val = RR_intervals.set_index(pd.IntervalIndex.from_arrays(RR_intervals['From'], RR_intervals['To']))['Value']\n",
    "vitals_remove_invalid_df['RR_c'] = vitals_remove_invalid_df['eVitals_14'].map(RR_set_val)\n",
    "\n",
    "# map GCS \n",
    "GCS_set_val = GCS_intervals.set_index(pd.IntervalIndex.from_arrays(GCS_intervals['From'], GCS_intervals['To']))['Value']\n",
    "vitals_remove_invalid_df['GCS_c'] = vitals_remove_invalid_df['GCS'].map(GCS_set_val)\n"
   ]
  },
  {
   "cell_type": "code",
   "execution_count": 19,
   "id": "8566395c-327f-4ee7-8c32-8402eac055bb",
   "metadata": {
    "scrolled": true,
    "tags": []
   },
   "outputs": [
    {
     "data": {
      "text/html": [
       "<div>\n",
       "<style scoped>\n",
       "    .dataframe tbody tr th:only-of-type {\n",
       "        vertical-align: middle;\n",
       "    }\n",
       "\n",
       "    .dataframe tbody tr th {\n",
       "        vertical-align: top;\n",
       "    }\n",
       "\n",
       "    .dataframe thead th {\n",
       "        text-align: right;\n",
       "    }\n",
       "</style>\n",
       "<table border=\"1\" class=\"dataframe\">\n",
       "  <thead>\n",
       "    <tr style=\"text-align: right;\">\n",
       "      <th></th>\n",
       "      <th>PcrKey</th>\n",
       "      <th>eVitals_06</th>\n",
       "      <th>eVitals_14</th>\n",
       "      <th>eVitals_02</th>\n",
       "      <th>eVitals_19</th>\n",
       "      <th>eVitals_20</th>\n",
       "      <th>eVitals_21</th>\n",
       "      <th>eVitals_01</th>\n",
       "      <th>GCS</th>\n",
       "      <th>SBP_c</th>\n",
       "      <th>RR_c</th>\n",
       "      <th>GCS_c</th>\n",
       "    </tr>\n",
       "  </thead>\n",
       "  <tbody>\n",
       "    <tr>\n",
       "      <th>84057917</th>\n",
       "      <td>256369527.0</td>\n",
       "      <td>144.0</td>\n",
       "      <td>22.0</td>\n",
       "      <td>9923003</td>\n",
       "      <td>4</td>\n",
       "      <td>5</td>\n",
       "      <td>6</td>\n",
       "      <td>13JUL2023:22:19:52</td>\n",
       "      <td>15</td>\n",
       "      <td>4</td>\n",
       "      <td>4</td>\n",
       "      <td>4</td>\n",
       "    </tr>\n",
       "    <tr>\n",
       "      <th>127478563</th>\n",
       "      <td>271190968.0</td>\n",
       "      <td>196.0</td>\n",
       "      <td>20.0</td>\n",
       "      <td>9923001</td>\n",
       "      <td>4</td>\n",
       "      <td>5</td>\n",
       "      <td>6</td>\n",
       "      <td>15OCT2023:22:33:00</td>\n",
       "      <td>15</td>\n",
       "      <td>4</td>\n",
       "      <td>4</td>\n",
       "      <td>4</td>\n",
       "    </tr>\n",
       "    <tr>\n",
       "      <th>150678332</th>\n",
       "      <td>279296797.0</td>\n",
       "      <td>159.0</td>\n",
       "      <td>14.0</td>\n",
       "      <td>9923001</td>\n",
       "      <td>4</td>\n",
       "      <td>4</td>\n",
       "      <td>6</td>\n",
       "      <td>10JUL2023:12:25:57</td>\n",
       "      <td>14</td>\n",
       "      <td>4</td>\n",
       "      <td>4</td>\n",
       "      <td>4</td>\n",
       "    </tr>\n",
       "    <tr>\n",
       "      <th>24237242</th>\n",
       "      <td>236147593.0</td>\n",
       "      <td>125.0</td>\n",
       "      <td>18.0</td>\n",
       "      <td>9923001</td>\n",
       "      <td>4</td>\n",
       "      <td>5</td>\n",
       "      <td>6</td>\n",
       "      <td>02MAR2023:14:03:00</td>\n",
       "      <td>15</td>\n",
       "      <td>4</td>\n",
       "      <td>4</td>\n",
       "      <td>4</td>\n",
       "    </tr>\n",
       "    <tr>\n",
       "      <th>80051929</th>\n",
       "      <td>255015497.0</td>\n",
       "      <td>126.0</td>\n",
       "      <td>16.0</td>\n",
       "      <td>7701003</td>\n",
       "      <td>4</td>\n",
       "      <td>5</td>\n",
       "      <td>6</td>\n",
       "      <td>14JUN2023:16:07:41</td>\n",
       "      <td>15</td>\n",
       "      <td>4</td>\n",
       "      <td>4</td>\n",
       "      <td>4</td>\n",
       "    </tr>\n",
       "    <tr>\n",
       "      <th>98423240</th>\n",
       "      <td>261176454.0</td>\n",
       "      <td>111.0</td>\n",
       "      <td>20.0</td>\n",
       "      <td>9923001</td>\n",
       "      <td>4</td>\n",
       "      <td>5</td>\n",
       "      <td>6</td>\n",
       "      <td>15AUG2023:10:57:26</td>\n",
       "      <td>15</td>\n",
       "      <td>4</td>\n",
       "      <td>4</td>\n",
       "      <td>4</td>\n",
       "    </tr>\n",
       "    <tr>\n",
       "      <th>138611790</th>\n",
       "      <td>275010970.0</td>\n",
       "      <td>124.0</td>\n",
       "      <td>18.0</td>\n",
       "      <td>9923001</td>\n",
       "      <td>4</td>\n",
       "      <td>5</td>\n",
       "      <td>6</td>\n",
       "      <td>11NOV2023:06:08:34</td>\n",
       "      <td>15</td>\n",
       "      <td>4</td>\n",
       "      <td>4</td>\n",
       "      <td>4</td>\n",
       "    </tr>\n",
       "    <tr>\n",
       "      <th>73910550</th>\n",
       "      <td>252771674.0</td>\n",
       "      <td>118.0</td>\n",
       "      <td>16.0</td>\n",
       "      <td>7701003</td>\n",
       "      <td>4</td>\n",
       "      <td>5</td>\n",
       "      <td>6</td>\n",
       "      <td>19JUN2023:02:16:00</td>\n",
       "      <td>15</td>\n",
       "      <td>4</td>\n",
       "      <td>4</td>\n",
       "      <td>4</td>\n",
       "    </tr>\n",
       "    <tr>\n",
       "      <th>145466623</th>\n",
       "      <td>277371448.0</td>\n",
       "      <td>170.0</td>\n",
       "      <td>16.0</td>\n",
       "      <td>9923001</td>\n",
       "      <td>4</td>\n",
       "      <td>5</td>\n",
       "      <td>6</td>\n",
       "      <td>26NOV2023:22:56:06</td>\n",
       "      <td>15</td>\n",
       "      <td>4</td>\n",
       "      <td>4</td>\n",
       "      <td>4</td>\n",
       "    </tr>\n",
       "    <tr>\n",
       "      <th>161854573</th>\n",
       "      <td>283989111.0</td>\n",
       "      <td>120.0</td>\n",
       "      <td>16.0</td>\n",
       "      <td>9923001</td>\n",
       "      <td>4</td>\n",
       "      <td>5</td>\n",
       "      <td>6</td>\n",
       "      <td>11OCT2023:16:22:00</td>\n",
       "      <td>15</td>\n",
       "      <td>4</td>\n",
       "      <td>4</td>\n",
       "      <td>4</td>\n",
       "    </tr>\n",
       "    <tr>\n",
       "      <th>141442621</th>\n",
       "      <td>275981383.0</td>\n",
       "      <td>130.0</td>\n",
       "      <td>16.0</td>\n",
       "      <td>9923001</td>\n",
       "      <td>4</td>\n",
       "      <td>5</td>\n",
       "      <td>6</td>\n",
       "      <td>16NOV2023:21:58:55</td>\n",
       "      <td>15</td>\n",
       "      <td>4</td>\n",
       "      <td>4</td>\n",
       "      <td>4</td>\n",
       "    </tr>\n",
       "    <tr>\n",
       "      <th>30232948</th>\n",
       "      <td>238173704.0</td>\n",
       "      <td>109.0</td>\n",
       "      <td>18.0</td>\n",
       "      <td>9923001</td>\n",
       "      <td>4</td>\n",
       "      <td>5</td>\n",
       "      <td>6</td>\n",
       "      <td>15MAR2023:22:10:00</td>\n",
       "      <td>15</td>\n",
       "      <td>4</td>\n",
       "      <td>4</td>\n",
       "      <td>4</td>\n",
       "    </tr>\n",
       "    <tr>\n",
       "      <th>110847191</th>\n",
       "      <td>265459869.0</td>\n",
       "      <td>145.0</td>\n",
       "      <td>18.0</td>\n",
       "      <td>9923001</td>\n",
       "      <td>4</td>\n",
       "      <td>5</td>\n",
       "      <td>6</td>\n",
       "      <td>11SEP2023:11:15:00</td>\n",
       "      <td>15</td>\n",
       "      <td>4</td>\n",
       "      <td>4</td>\n",
       "      <td>4</td>\n",
       "    </tr>\n",
       "    <tr>\n",
       "      <th>122053203</th>\n",
       "      <td>269295582.0</td>\n",
       "      <td>107.0</td>\n",
       "      <td>18.0</td>\n",
       "      <td>9923001</td>\n",
       "      <td>4</td>\n",
       "      <td>5</td>\n",
       "      <td>6</td>\n",
       "      <td>05OCT2023:00:49:07</td>\n",
       "      <td>15</td>\n",
       "      <td>4</td>\n",
       "      <td>4</td>\n",
       "      <td>4</td>\n",
       "    </tr>\n",
       "    <tr>\n",
       "      <th>142723134</th>\n",
       "      <td>276423024.0</td>\n",
       "      <td>140.0</td>\n",
       "      <td>16.0</td>\n",
       "      <td>9923001</td>\n",
       "      <td>4</td>\n",
       "      <td>5</td>\n",
       "      <td>6</td>\n",
       "      <td>05SEP2023:23:01:00</td>\n",
       "      <td>15</td>\n",
       "      <td>4</td>\n",
       "      <td>4</td>\n",
       "      <td>4</td>\n",
       "    </tr>\n",
       "    <tr>\n",
       "      <th>102646943</th>\n",
       "      <td>262636956.0</td>\n",
       "      <td>155.0</td>\n",
       "      <td>18.0</td>\n",
       "      <td>9923001</td>\n",
       "      <td>4</td>\n",
       "      <td>5</td>\n",
       "      <td>6</td>\n",
       "      <td>28AUG2023:02:43:42</td>\n",
       "      <td>15</td>\n",
       "      <td>4</td>\n",
       "      <td>4</td>\n",
       "      <td>4</td>\n",
       "    </tr>\n",
       "    <tr>\n",
       "      <th>132489324</th>\n",
       "      <td>272923542.0</td>\n",
       "      <td>83.0</td>\n",
       "      <td>16.0</td>\n",
       "      <td>9923001</td>\n",
       "      <td>4</td>\n",
       "      <td>4</td>\n",
       "      <td>6</td>\n",
       "      <td>28OCT2023:14:49:00</td>\n",
       "      <td>14</td>\n",
       "      <td>3</td>\n",
       "      <td>4</td>\n",
       "      <td>4</td>\n",
       "    </tr>\n",
       "    <tr>\n",
       "      <th>5105549</th>\n",
       "      <td>228901835.0</td>\n",
       "      <td>122.0</td>\n",
       "      <td>18.0</td>\n",
       "      <td>9923001</td>\n",
       "      <td>4</td>\n",
       "      <td>5</td>\n",
       "      <td>6</td>\n",
       "      <td>09JAN2023:21:39:00</td>\n",
       "      <td>15</td>\n",
       "      <td>4</td>\n",
       "      <td>4</td>\n",
       "      <td>4</td>\n",
       "    </tr>\n",
       "    <tr>\n",
       "      <th>56195239</th>\n",
       "      <td>246860271.0</td>\n",
       "      <td>120.0</td>\n",
       "      <td>18.0</td>\n",
       "      <td>9923001</td>\n",
       "      <td>4</td>\n",
       "      <td>5</td>\n",
       "      <td>6</td>\n",
       "      <td>16MAY2023:06:20:00</td>\n",
       "      <td>15</td>\n",
       "      <td>4</td>\n",
       "      <td>4</td>\n",
       "      <td>4</td>\n",
       "    </tr>\n",
       "    <tr>\n",
       "      <th>145213557</th>\n",
       "      <td>277274007.0</td>\n",
       "      <td>213.0</td>\n",
       "      <td>20.0</td>\n",
       "      <td>9923001</td>\n",
       "      <td>4</td>\n",
       "      <td>5</td>\n",
       "      <td>6</td>\n",
       "      <td>20NOV2023:07:14:00</td>\n",
       "      <td>15</td>\n",
       "      <td>4</td>\n",
       "      <td>4</td>\n",
       "      <td>4</td>\n",
       "    </tr>\n",
       "    <tr>\n",
       "      <th>19455844</th>\n",
       "      <td>234381305.0</td>\n",
       "      <td>165.0</td>\n",
       "      <td>18.0</td>\n",
       "      <td>9923001</td>\n",
       "      <td>4</td>\n",
       "      <td>5</td>\n",
       "      <td>6</td>\n",
       "      <td>21FEB2023:10:09:40</td>\n",
       "      <td>15</td>\n",
       "      <td>4</td>\n",
       "      <td>4</td>\n",
       "      <td>4</td>\n",
       "    </tr>\n",
       "    <tr>\n",
       "      <th>93757707</th>\n",
       "      <td>259552989.0</td>\n",
       "      <td>135.0</td>\n",
       "      <td>16.0</td>\n",
       "      <td>7701003</td>\n",
       "      <td>4</td>\n",
       "      <td>5</td>\n",
       "      <td>6</td>\n",
       "      <td>06AUG2023:20:04:35</td>\n",
       "      <td>15</td>\n",
       "      <td>4</td>\n",
       "      <td>4</td>\n",
       "      <td>4</td>\n",
       "    </tr>\n",
       "    <tr>\n",
       "      <th>83892701</th>\n",
       "      <td>256321692.0</td>\n",
       "      <td>178.0</td>\n",
       "      <td>20.0</td>\n",
       "      <td>9923001</td>\n",
       "      <td>4</td>\n",
       "      <td>5</td>\n",
       "      <td>6</td>\n",
       "      <td>05JUL2023:18:44:24</td>\n",
       "      <td>15</td>\n",
       "      <td>4</td>\n",
       "      <td>4</td>\n",
       "      <td>4</td>\n",
       "    </tr>\n",
       "    <tr>\n",
       "      <th>7527216</th>\n",
       "      <td>229968299.0</td>\n",
       "      <td>172.0</td>\n",
       "      <td>18.0</td>\n",
       "      <td>9923001</td>\n",
       "      <td>4</td>\n",
       "      <td>5</td>\n",
       "      <td>6</td>\n",
       "      <td>23JAN2023:23:06:00</td>\n",
       "      <td>15</td>\n",
       "      <td>4</td>\n",
       "      <td>4</td>\n",
       "      <td>4</td>\n",
       "    </tr>\n",
       "    <tr>\n",
       "      <th>9098718</th>\n",
       "      <td>230450769.0</td>\n",
       "      <td>149.0</td>\n",
       "      <td>17.0</td>\n",
       "      <td>9923001</td>\n",
       "      <td>4</td>\n",
       "      <td>5</td>\n",
       "      <td>6</td>\n",
       "      <td>26JAN2023:22:07:27</td>\n",
       "      <td>15</td>\n",
       "      <td>4</td>\n",
       "      <td>4</td>\n",
       "      <td>4</td>\n",
       "    </tr>\n",
       "    <tr>\n",
       "      <th>88814734</th>\n",
       "      <td>257895999.0</td>\n",
       "      <td>105.0</td>\n",
       "      <td>18.0</td>\n",
       "      <td>9923001</td>\n",
       "      <td>4</td>\n",
       "      <td>5</td>\n",
       "      <td>6</td>\n",
       "      <td>25JUL2023:05:36:00</td>\n",
       "      <td>15</td>\n",
       "      <td>4</td>\n",
       "      <td>4</td>\n",
       "      <td>4</td>\n",
       "    </tr>\n",
       "    <tr>\n",
       "      <th>16109957</th>\n",
       "      <td>233090810.0</td>\n",
       "      <td>175.0</td>\n",
       "      <td>18.0</td>\n",
       "      <td>9923001</td>\n",
       "      <td>4</td>\n",
       "      <td>5</td>\n",
       "      <td>6</td>\n",
       "      <td>13FEB2023:01:40:00</td>\n",
       "      <td>15</td>\n",
       "      <td>4</td>\n",
       "      <td>4</td>\n",
       "      <td>4</td>\n",
       "    </tr>\n",
       "    <tr>\n",
       "      <th>158496022</th>\n",
       "      <td>281910294.0</td>\n",
       "      <td>145.0</td>\n",
       "      <td>14.0</td>\n",
       "      <td>9923001</td>\n",
       "      <td>1</td>\n",
       "      <td>1</td>\n",
       "      <td>1</td>\n",
       "      <td>27DEC2023:18:16:11</td>\n",
       "      <td>3</td>\n",
       "      <td>4</td>\n",
       "      <td>4</td>\n",
       "      <td>0</td>\n",
       "    </tr>\n",
       "    <tr>\n",
       "      <th>16853552</th>\n",
       "      <td>233373427.0</td>\n",
       "      <td>118.0</td>\n",
       "      <td>18.0</td>\n",
       "      <td>9923001</td>\n",
       "      <td>4</td>\n",
       "      <td>5</td>\n",
       "      <td>6</td>\n",
       "      <td>08FEB2023:10:46:00</td>\n",
       "      <td>15</td>\n",
       "      <td>4</td>\n",
       "      <td>4</td>\n",
       "      <td>4</td>\n",
       "    </tr>\n",
       "    <tr>\n",
       "      <th>20290987</th>\n",
       "      <td>234702462.0</td>\n",
       "      <td>118.0</td>\n",
       "      <td>20.0</td>\n",
       "      <td>9923001</td>\n",
       "      <td>4</td>\n",
       "      <td>5</td>\n",
       "      <td>6</td>\n",
       "      <td>22FEB2023:09:35:00</td>\n",
       "      <td>15</td>\n",
       "      <td>4</td>\n",
       "      <td>4</td>\n",
       "      <td>4</td>\n",
       "    </tr>\n",
       "  </tbody>\n",
       "</table>\n",
       "</div>"
      ],
      "text/plain": [
       "                PcrKey  eVitals_06  eVitals_14  eVitals_02  eVitals_19  \\\n",
       "84057917   256369527.0       144.0        22.0     9923003           4   \n",
       "127478563  271190968.0       196.0        20.0     9923001           4   \n",
       "150678332  279296797.0       159.0        14.0     9923001           4   \n",
       "24237242   236147593.0       125.0        18.0     9923001           4   \n",
       "80051929   255015497.0       126.0        16.0     7701003           4   \n",
       "98423240   261176454.0       111.0        20.0     9923001           4   \n",
       "138611790  275010970.0       124.0        18.0     9923001           4   \n",
       "73910550   252771674.0       118.0        16.0     7701003           4   \n",
       "145466623  277371448.0       170.0        16.0     9923001           4   \n",
       "161854573  283989111.0       120.0        16.0     9923001           4   \n",
       "141442621  275981383.0       130.0        16.0     9923001           4   \n",
       "30232948   238173704.0       109.0        18.0     9923001           4   \n",
       "110847191  265459869.0       145.0        18.0     9923001           4   \n",
       "122053203  269295582.0       107.0        18.0     9923001           4   \n",
       "142723134  276423024.0       140.0        16.0     9923001           4   \n",
       "102646943  262636956.0       155.0        18.0     9923001           4   \n",
       "132489324  272923542.0        83.0        16.0     9923001           4   \n",
       "5105549    228901835.0       122.0        18.0     9923001           4   \n",
       "56195239   246860271.0       120.0        18.0     9923001           4   \n",
       "145213557  277274007.0       213.0        20.0     9923001           4   \n",
       "19455844   234381305.0       165.0        18.0     9923001           4   \n",
       "93757707   259552989.0       135.0        16.0     7701003           4   \n",
       "83892701   256321692.0       178.0        20.0     9923001           4   \n",
       "7527216    229968299.0       172.0        18.0     9923001           4   \n",
       "9098718    230450769.0       149.0        17.0     9923001           4   \n",
       "88814734   257895999.0       105.0        18.0     9923001           4   \n",
       "16109957   233090810.0       175.0        18.0     9923001           4   \n",
       "158496022  281910294.0       145.0        14.0     9923001           1   \n",
       "16853552   233373427.0       118.0        18.0     9923001           4   \n",
       "20290987   234702462.0       118.0        20.0     9923001           4   \n",
       "\n",
       "           eVitals_20  eVitals_21            eVitals_01  GCS  SBP_c  RR_c  \\\n",
       "84057917            5           6    13JUL2023:22:19:52   15      4     4   \n",
       "127478563           5           6    15OCT2023:22:33:00   15      4     4   \n",
       "150678332           4           6    10JUL2023:12:25:57   14      4     4   \n",
       "24237242            5           6    02MAR2023:14:03:00   15      4     4   \n",
       "80051929            5           6    14JUN2023:16:07:41   15      4     4   \n",
       "98423240            5           6    15AUG2023:10:57:26   15      4     4   \n",
       "138611790           5           6    11NOV2023:06:08:34   15      4     4   \n",
       "73910550            5           6    19JUN2023:02:16:00   15      4     4   \n",
       "145466623           5           6    26NOV2023:22:56:06   15      4     4   \n",
       "161854573           5           6    11OCT2023:16:22:00   15      4     4   \n",
       "141442621           5           6    16NOV2023:21:58:55   15      4     4   \n",
       "30232948            5           6    15MAR2023:22:10:00   15      4     4   \n",
       "110847191           5           6    11SEP2023:11:15:00   15      4     4   \n",
       "122053203           5           6    05OCT2023:00:49:07   15      4     4   \n",
       "142723134           5           6    05SEP2023:23:01:00   15      4     4   \n",
       "102646943           5           6    28AUG2023:02:43:42   15      4     4   \n",
       "132489324           4           6    28OCT2023:14:49:00   14      3     4   \n",
       "5105549             5           6    09JAN2023:21:39:00   15      4     4   \n",
       "56195239            5           6    16MAY2023:06:20:00   15      4     4   \n",
       "145213557           5           6    20NOV2023:07:14:00   15      4     4   \n",
       "19455844            5           6    21FEB2023:10:09:40   15      4     4   \n",
       "93757707            5           6    06AUG2023:20:04:35   15      4     4   \n",
       "83892701            5           6    05JUL2023:18:44:24   15      4     4   \n",
       "7527216             5           6    23JAN2023:23:06:00   15      4     4   \n",
       "9098718             5           6    26JAN2023:22:07:27   15      4     4   \n",
       "88814734            5           6    25JUL2023:05:36:00   15      4     4   \n",
       "16109957            5           6    13FEB2023:01:40:00   15      4     4   \n",
       "158496022           1           1    27DEC2023:18:16:11    3      4     4   \n",
       "16853552            5           6    08FEB2023:10:46:00   15      4     4   \n",
       "20290987            5           6    22FEB2023:09:35:00   15      4     4   \n",
       "\n",
       "           GCS_c  \n",
       "84057917       4  \n",
       "127478563      4  \n",
       "150678332      4  \n",
       "24237242       4  \n",
       "80051929       4  \n",
       "98423240       4  \n",
       "138611790      4  \n",
       "73910550       4  \n",
       "145466623      4  \n",
       "161854573      4  \n",
       "141442621      4  \n",
       "30232948       4  \n",
       "110847191      4  \n",
       "122053203      4  \n",
       "142723134      4  \n",
       "102646943      4  \n",
       "132489324      4  \n",
       "5105549        4  \n",
       "56195239       4  \n",
       "145213557      4  \n",
       "19455844       4  \n",
       "93757707       4  \n",
       "83892701       4  \n",
       "7527216        4  \n",
       "9098718        4  \n",
       "88814734       4  \n",
       "16109957       4  \n",
       "158496022      0  \n",
       "16853552       4  \n",
       "20290987       4  "
      ]
     },
     "execution_count": 19,
     "metadata": {},
     "output_type": "execute_result"
    }
   ],
   "source": [
    "vitals_remove_invalid_df.sample(30)"
   ]
  },
  {
   "cell_type": "code",
   "execution_count": 20,
   "id": "14f1ebea-4281-455b-8f8b-209d36643f98",
   "metadata": {},
   "outputs": [
    {
     "data": {
      "text/html": [
       "<div>\n",
       "<style scoped>\n",
       "    .dataframe tbody tr th:only-of-type {\n",
       "        vertical-align: middle;\n",
       "    }\n",
       "\n",
       "    .dataframe tbody tr th {\n",
       "        vertical-align: top;\n",
       "    }\n",
       "\n",
       "    .dataframe thead th {\n",
       "        text-align: right;\n",
       "    }\n",
       "</style>\n",
       "<table border=\"1\" class=\"dataframe\">\n",
       "  <thead>\n",
       "    <tr style=\"text-align: right;\">\n",
       "      <th></th>\n",
       "      <th>PcrKey</th>\n",
       "      <th>eVitals_06</th>\n",
       "      <th>eVitals_14</th>\n",
       "      <th>eVitals_02</th>\n",
       "      <th>eVitals_19</th>\n",
       "      <th>eVitals_20</th>\n",
       "      <th>eVitals_21</th>\n",
       "      <th>GCS</th>\n",
       "      <th>SBP_c</th>\n",
       "      <th>RR_c</th>\n",
       "      <th>GCS_c</th>\n",
       "    </tr>\n",
       "  </thead>\n",
       "  <tbody>\n",
       "    <tr>\n",
       "      <th>count</th>\n",
       "      <td>7.073033e+07</td>\n",
       "      <td>7.073033e+07</td>\n",
       "      <td>7.073033e+07</td>\n",
       "      <td>7.073033e+07</td>\n",
       "      <td>7.073033e+07</td>\n",
       "      <td>7.073033e+07</td>\n",
       "      <td>7.073033e+07</td>\n",
       "      <td>7.073033e+07</td>\n",
       "      <td>7.073033e+07</td>\n",
       "      <td>7.073033e+07</td>\n",
       "      <td>7.073033e+07</td>\n",
       "    </tr>\n",
       "    <tr>\n",
       "      <th>mean</th>\n",
       "      <td>2.565351e+08</td>\n",
       "      <td>1.361305e+02</td>\n",
       "      <td>1.829601e+01</td>\n",
       "      <td>9.722968e+06</td>\n",
       "      <td>3.883313e+00</td>\n",
       "      <td>4.698409e+00</td>\n",
       "      <td>5.819873e+00</td>\n",
       "      <td>1.440159e+01</td>\n",
       "      <td>3.946792e+00</td>\n",
       "      <td>3.964587e+00</td>\n",
       "      <td>3.863857e+00</td>\n",
       "    </tr>\n",
       "    <tr>\n",
       "      <th>std</th>\n",
       "      <td>1.636120e+07</td>\n",
       "      <td>2.821827e+01</td>\n",
       "      <td>5.871218e+00</td>\n",
       "      <td>6.359713e+05</td>\n",
       "      <td>5.080015e-01</td>\n",
       "      <td>8.621691e-01</td>\n",
       "      <td>8.033212e-01</td>\n",
       "      <td>2.010413e+00</td>\n",
       "      <td>3.218340e-01</td>\n",
       "      <td>2.538967e-01</td>\n",
       "      <td>6.048456e-01</td>\n",
       "    </tr>\n",
       "    <tr>\n",
       "      <th>min</th>\n",
       "      <td>1.717607e+08</td>\n",
       "      <td>0.000000e+00</td>\n",
       "      <td>0.000000e+00</td>\n",
       "      <td>7.701001e+06</td>\n",
       "      <td>1.000000e+00</td>\n",
       "      <td>1.000000e+00</td>\n",
       "      <td>1.000000e+00</td>\n",
       "      <td>3.000000e+00</td>\n",
       "      <td>0.000000e+00</td>\n",
       "      <td>0.000000e+00</td>\n",
       "      <td>0.000000e+00</td>\n",
       "    </tr>\n",
       "    <tr>\n",
       "      <th>25%</th>\n",
       "      <td>2.427471e+08</td>\n",
       "      <td>1.180000e+02</td>\n",
       "      <td>1.600000e+01</td>\n",
       "      <td>9.923001e+06</td>\n",
       "      <td>4.000000e+00</td>\n",
       "      <td>5.000000e+00</td>\n",
       "      <td>6.000000e+00</td>\n",
       "      <td>1.500000e+01</td>\n",
       "      <td>4.000000e+00</td>\n",
       "      <td>4.000000e+00</td>\n",
       "      <td>4.000000e+00</td>\n",
       "    </tr>\n",
       "    <tr>\n",
       "      <th>50%</th>\n",
       "      <td>2.568558e+08</td>\n",
       "      <td>1.340000e+02</td>\n",
       "      <td>1.800000e+01</td>\n",
       "      <td>9.923001e+06</td>\n",
       "      <td>4.000000e+00</td>\n",
       "      <td>5.000000e+00</td>\n",
       "      <td>6.000000e+00</td>\n",
       "      <td>1.500000e+01</td>\n",
       "      <td>4.000000e+00</td>\n",
       "      <td>4.000000e+00</td>\n",
       "      <td>4.000000e+00</td>\n",
       "    </tr>\n",
       "    <tr>\n",
       "      <th>75%</th>\n",
       "      <td>2.704187e+08</td>\n",
       "      <td>1.520000e+02</td>\n",
       "      <td>2.000000e+01</td>\n",
       "      <td>9.923001e+06</td>\n",
       "      <td>4.000000e+00</td>\n",
       "      <td>5.000000e+00</td>\n",
       "      <td>6.000000e+00</td>\n",
       "      <td>1.500000e+01</td>\n",
       "      <td>4.000000e+00</td>\n",
       "      <td>4.000000e+00</td>\n",
       "      <td>4.000000e+00</td>\n",
       "    </tr>\n",
       "    <tr>\n",
       "      <th>max</th>\n",
       "      <td>2.892866e+08</td>\n",
       "      <td>5.000000e+02</td>\n",
       "      <td>3.000000e+02</td>\n",
       "      <td>9.923003e+06</td>\n",
       "      <td>4.000000e+00</td>\n",
       "      <td>5.000000e+00</td>\n",
       "      <td>6.000000e+00</td>\n",
       "      <td>1.500000e+01</td>\n",
       "      <td>4.000000e+00</td>\n",
       "      <td>4.000000e+00</td>\n",
       "      <td>4.000000e+00</td>\n",
       "    </tr>\n",
       "  </tbody>\n",
       "</table>\n",
       "</div>"
      ],
      "text/plain": [
       "             PcrKey    eVitals_06    eVitals_14    eVitals_02    eVitals_19  \\\n",
       "count  7.073033e+07  7.073033e+07  7.073033e+07  7.073033e+07  7.073033e+07   \n",
       "mean   2.565351e+08  1.361305e+02  1.829601e+01  9.722968e+06  3.883313e+00   \n",
       "std    1.636120e+07  2.821827e+01  5.871218e+00  6.359713e+05  5.080015e-01   \n",
       "min    1.717607e+08  0.000000e+00  0.000000e+00  7.701001e+06  1.000000e+00   \n",
       "25%    2.427471e+08  1.180000e+02  1.600000e+01  9.923001e+06  4.000000e+00   \n",
       "50%    2.568558e+08  1.340000e+02  1.800000e+01  9.923001e+06  4.000000e+00   \n",
       "75%    2.704187e+08  1.520000e+02  2.000000e+01  9.923001e+06  4.000000e+00   \n",
       "max    2.892866e+08  5.000000e+02  3.000000e+02  9.923003e+06  4.000000e+00   \n",
       "\n",
       "         eVitals_20    eVitals_21           GCS         SBP_c          RR_c  \\\n",
       "count  7.073033e+07  7.073033e+07  7.073033e+07  7.073033e+07  7.073033e+07   \n",
       "mean   4.698409e+00  5.819873e+00  1.440159e+01  3.946792e+00  3.964587e+00   \n",
       "std    8.621691e-01  8.033212e-01  2.010413e+00  3.218340e-01  2.538967e-01   \n",
       "min    1.000000e+00  1.000000e+00  3.000000e+00  0.000000e+00  0.000000e+00   \n",
       "25%    5.000000e+00  6.000000e+00  1.500000e+01  4.000000e+00  4.000000e+00   \n",
       "50%    5.000000e+00  6.000000e+00  1.500000e+01  4.000000e+00  4.000000e+00   \n",
       "75%    5.000000e+00  6.000000e+00  1.500000e+01  4.000000e+00  4.000000e+00   \n",
       "max    5.000000e+00  6.000000e+00  1.500000e+01  4.000000e+00  4.000000e+00   \n",
       "\n",
       "              GCS_c  \n",
       "count  7.073033e+07  \n",
       "mean   3.863857e+00  \n",
       "std    6.048456e-01  \n",
       "min    0.000000e+00  \n",
       "25%    4.000000e+00  \n",
       "50%    4.000000e+00  \n",
       "75%    4.000000e+00  \n",
       "max    4.000000e+00  "
      ]
     },
     "execution_count": 20,
     "metadata": {},
     "output_type": "execute_result"
    }
   ],
   "source": [
    "vitals_remove_invalid_df.describe()"
   ]
  },
  {
   "cell_type": "code",
   "execution_count": 21,
   "id": "a392acc8-dbfe-41e5-8516-e883945a4575",
   "metadata": {},
   "outputs": [
    {
     "name": "stderr",
     "output_type": "stream",
     "text": [
      "/var/folders/jy/_pwqg6_s2hvd_mr9rz6j29yc0000gn/T/ipykernel_2746/3008954688.py:2: SettingWithCopyWarning: \n",
      "A value is trying to be set on a copy of a slice from a DataFrame.\n",
      "Try using .loc[row_indexer,col_indexer] = value instead\n",
      "\n",
      "See the caveats in the documentation: https://pandas.pydata.org/pandas-docs/stable/user_guide/indexing.html#returning-a-view-versus-a-copy\n",
      "  vitals_remove_invalid_df['RTS'] = vitals_remove_invalid_df['GCS_c'] + vitals_remove_invalid_df['RR_c'] + vitals_remove_invalid_df['SBP_c']\n"
     ]
    }
   ],
   "source": [
    "# compute Revised Trauma Score (RTS)\n",
    "vitals_remove_invalid_df['RTS'] = vitals_remove_invalid_df['GCS_c'] + vitals_remove_invalid_df['RR_c'] + vitals_remove_invalid_df['SBP_c']\n"
   ]
  },
  {
   "cell_type": "code",
   "execution_count": 22,
   "id": "1b25cda3-8813-462b-9cc5-cf97384221cf",
   "metadata": {},
   "outputs": [],
   "source": [
    "# only keep the highest RTS value\n",
    "max_RTS_df = vitals_remove_invalid_df.groupby('PcrKey')['RTS'].max().reset_index()"
   ]
  },
  {
   "cell_type": "code",
   "execution_count": 23,
   "id": "5c9a0a97-ce2f-4d96-992c-7452705b2a30",
   "metadata": {
    "scrolled": true,
    "tags": []
   },
   "outputs": [],
   "source": [
    "exclude2_df = exclude1_df.merge(max_RTS_df, on='PcrKey', how='left', validate='1:1')"
   ]
  },
  {
   "cell_type": "code",
   "execution_count": 24,
   "id": "d7073461-8a37-4a0d-b4f9-36c4d549178f",
   "metadata": {},
   "outputs": [
    {
     "name": "stdout",
     "output_type": "stream",
     "text": [
      "# null RTS: 621887\n"
     ]
    }
   ],
   "source": [
    "# no documented vitals for those cases\n",
    "print(f\"# null RTS: {exclude2_df['RTS'].isnull().sum()}\")"
   ]
  },
  {
   "cell_type": "code",
   "execution_count": 25,
   "id": "1f7a5bba-5ada-47e9-a6d9-e4f37d71173a",
   "metadata": {},
   "outputs": [],
   "source": [
    "# remove null RTS\n",
    "exclude2_denull_df = exclude2_df[~exclude2_df.isnull()]"
   ]
  },
  {
   "cell_type": "code",
   "execution_count": 26,
   "id": "8ca1b417-ec62-4cb3-8506-0bc664136e26",
   "metadata": {},
   "outputs": [
    {
     "data": {
      "text/plain": [
       "count    3.052608e+06\n",
       "mean     1.192384e+01\n",
       "std      4.849382e-01\n",
       "min      0.000000e+00\n",
       "25%      1.200000e+01\n",
       "50%      1.200000e+01\n",
       "75%      1.200000e+01\n",
       "max      1.200000e+01\n",
       "Name: RTS, dtype: float64"
      ]
     },
     "execution_count": 26,
     "metadata": {},
     "output_type": "execute_result"
    }
   ],
   "source": [
    "exclude2_denull_df['RTS'].describe()"
   ]
  },
  {
   "cell_type": "code",
   "execution_count": 27,
   "id": "aa7082fc-835d-4c77-978f-f738a5e6947c",
   "metadata": {},
   "outputs": [
    {
     "data": {
      "image/png": "[encoded data removed]",
      "text/plain": [
       "<Figure size 640x480 with 1 Axes>"
      ]
     },
     "metadata": {},
     "output_type": "display_data"
    }
   ],
   "source": [
    "plt.hist(exclude2_denull_df['RTS'], 13, log=True)\n",
    "plt.xlabel(\"RTS\"); plt.ylabel(\"count\"); plt.title(\"RTS Histogram\")\n",
    "plt.show()"
   ]
  },
  {
   "cell_type": "code",
   "execution_count": 28,
   "id": "52a25579-4a5f-41cc-8767-327f4110730e",
   "metadata": {},
   "outputs": [
    {
     "name": "stdout",
     "output_type": "stream",
     "text": [
      "# significant trauma: 120947\n",
      "# insiginficiant trauma: 3553548\n"
     ]
    }
   ],
   "source": [
    "RTS_thresh = 11\n",
    "sig_trauma_idx = exclude2_denull_df['RTS'] <= RTS_thresh\n",
    "exclude2_denull_sig_df = exclude2_denull_df[sig_trauma_idx]\n",
    "print(f\"# significant trauma: {len(exclude2_denull_sig_df)}\")\n",
    "print(f\"# insiginficiant trauma: {len(exclude2_denull_df) - len(exclude2_denull_sig_df)}\")"
   ]
  },
  {
   "cell_type": "code",
   "execution_count": 30,
   "id": "27f5e203-ad4b-43a8-8b75-fceac22b9f5b",
   "metadata": {},
   "outputs": [],
   "source": [
    "# keep insiginificant injuries given low number of cases w/ RTS <= 11\n",
    "exclude2_denull_df.to_csv('/Volumes/Research/GoldenHourData/InclusionCriteria/InclusionExclusionCriteria.csv', index=False)\n",
    "# exclude2_denull_sig_df.to_csv('Data/InclusionCriteria/InclusionExclusionCriteria.xlsx', index=False)\n"
   ]
  },
  {
   "cell_type": "markdown",
   "id": "12a8cfef-ae90-4e21-a15d-c6a6df40fcd5",
   "metadata": {
    "tags": []
   },
   "source": [
    "### (remove) Filter: destination team pre-arrival team/activation"
   ]
  },
  {
   "cell_type": "markdown",
   "id": "1f483e18-3c4f-442c-8a18-44af3bd4117e",
   "metadata": {},
   "source": [
    "\n",
    "include \n",
    "\n",
    "4224003\tYes-Adult Trauma\n",
    "\n",
    "4224011\tYes-Pediatric Trauma\n",
    "\n",
    "4224017\tYes-Trauma (General)"
   ]
  },
  {
   "cell_type": "code",
   "execution_count": 32,
   "id": "ec8aaa97-012f-427c-b7e4-6f5bdb7d1223",
   "metadata": {},
   "outputs": [],
   "source": [
    "# edisposition.16, \n",
    "destination_df, _ = pyreadstat.read_sas7bdat('/Volumes/Research/GoldenHourData/NEMSISRawFiles/factpcrdestinationteam.sas7bdat')"
   ]
  },
  {
   "cell_type": "code",
   "execution_count": 33,
   "id": "1f99ad5a-8c74-42ba-9b6f-23bc60798da8",
   "metadata": {},
   "outputs": [
    {
     "name": "stdout",
     "output_type": "stream",
     "text": [
      "# of null activation data: 0\n"
     ]
    },
    {
     "data": {
      "text/plain": [
       "eDisposition_24\n",
       "Not Applicable          45.571912\n",
       "No                      33.234821\n",
       "Not Recorded            17.884057\n",
       "Yes-Other                1.797871\n",
       "Yes-Stroke               0.497194\n",
       "Yes-Adult Trauma         0.397424\n",
       "Yes-Trauma (General)     0.336292\n",
       "Yes-STEMI                0.137168\n",
       "Yes-Cardiac Arrest       0.098143\n",
       "Yes-Pediatric Trauma     0.033337\n",
       "Yes-Obstetrics           0.011780\n",
       "Name: proportion, dtype: float64"
      ]
     },
     "execution_count": 33,
     "metadata": {},
     "output_type": "execute_result"
    }
   ],
   "source": [
    "# find counts of activation team\n",
    "print(f\"# of null activation data: {destination_df['eDisposition_24'].isnull().sum()}\")\n",
    "\n",
    "# desitnation_count = destination_df['eDisposition_24'].value_counts()\n",
    "desitnation_count = destination_df['eDisposition_24'].value_counts(normalize=True) * 100\n",
    "index_map = {\n",
    "    \"4224001\":\"No\",\n",
    "    \"4224003\":\"Yes-Adult Trauma\",\n",
    "    \"4224005\":\"Yes-Cardiac Arrest\",\n",
    "    \"4224007\":\"Yes-Obstetrics\",\n",
    "    \"4224009\":\"Yes-Other\",\n",
    "    \"4224011\":\"Yes-Pediatric Trauma\",\n",
    "    \"4224013\":\"Yes-STEMI\",\n",
    "    \"4224015\":\"Yes-Stroke\",\n",
    "    \"4224017\":\"Yes-Trauma (General)\",\n",
    "    \"4224019\":\"Yes-Sepsis\",\n",
    "    \"7701001\":\"Not Recorded\",\n",
    "    \"7701003\":\"Not Applicable\",\n",
    "}\n",
    "\n",
    "# Rename the index using the dictionary\n",
    "desitnation_count.rename(index=index_map, inplace=True)\n",
    "\n",
    "desitnation_count\n"
   ]
  },
  {
   "cell_type": "code",
   "execution_count": 34,
   "id": "33ce64a4-38c9-4596-8fb2-63f830250c69",
   "metadata": {},
   "outputs": [],
   "source": [
    "desired_team_idx = destination_df['eDisposition_24'].isin(['4224003', '4224011', '4224017'])\n",
    "\n",
    "# 1 point for meeting 1 activatin team called\n",
    "destination_df['desired_team'] = 0\n",
    "destination_df.loc[desired_team_idx, 'desired_team'] = 1"
   ]
  },
  {
   "cell_type": "code",
   "execution_count": 35,
   "id": "d6dec1c0-400e-44a1-b50c-f76d041b793c",
   "metadata": {},
   "outputs": [],
   "source": [
    "# sum how many desired team activation, use this to filter for desired pcrkey\n",
    "destination_deduped_df = destination_df.groupby('PcrKey').agg({'desired_team': 'sum', 'eDisposition_24': 'first'})\n",
    "destination_deduped_df = destination_deduped_df.reset_index()\n"
   ]
  },
  {
   "cell_type": "code",
   "execution_count": 36,
   "id": "7151f087-f158-4d1f-9e01-c7daead49731",
   "metadata": {
    "scrolled": true,
    "tags": []
   },
   "outputs": [],
   "source": [
    "# merge disposition data to filtered trauma data\n",
    "trauma_dispo_adt_dest_df = trauma_dispo_adt_df.merge(destination_deduped_df, left_on='PcrKey', right_on='PcrKey', how='left', validate='1:1')\n"
   ]
  },
  {
   "cell_type": "code",
   "execution_count": 37,
   "id": "2d37c11b-b75a-4e28-b955-9a36dba5a2b3",
   "metadata": {},
   "outputs": [
    {
     "name": "stdout",
     "output_type": "stream",
     "text": [
      "# cases w/o desired activation team: 3392630\n",
      "# cases w/ desired activation team: 281865\n"
     ]
    },
    {
     "data": {
      "text/html": [
       "<div>\n",
       "<style scoped>\n",
       "    .dataframe tbody tr th:only-of-type {\n",
       "        vertical-align: middle;\n",
       "    }\n",
       "\n",
       "    .dataframe tbody tr th {\n",
       "        vertical-align: top;\n",
       "    }\n",
       "\n",
       "    .dataframe thead th {\n",
       "        text-align: right;\n",
       "    }\n",
       "</style>\n",
       "<table border=\"1\" class=\"dataframe\">\n",
       "  <thead>\n",
       "    <tr style=\"text-align: right;\">\n",
       "      <th></th>\n",
       "      <th>PcrKey</th>\n",
       "      <th>eDisposition_16</th>\n",
       "      <th>eDisposition_21</th>\n",
       "      <th>ePatient_15</th>\n",
       "      <th>transport_method</th>\n",
       "      <th>desired_team</th>\n",
       "      <th>eDisposition_24</th>\n",
       "    </tr>\n",
       "  </thead>\n",
       "  <tbody>\n",
       "    <tr>\n",
       "      <th>3444927</th>\n",
       "      <td>250529360.0</td>\n",
       "      <td>4216005</td>\n",
       "      <td>4221003</td>\n",
       "      <td>26.0</td>\n",
       "      <td>ground</td>\n",
       "      <td>1</td>\n",
       "      <td>4224003</td>\n",
       "    </tr>\n",
       "  </tbody>\n",
       "</table>\n",
       "</div>"
      ],
      "text/plain": [
       "              PcrKey  eDisposition_16  eDisposition_21  ePatient_15  \\\n",
       "3444927  250529360.0          4216005          4221003         26.0   \n",
       "\n",
       "        transport_method  desired_team eDisposition_24  \n",
       "3444927           ground             1         4224003  "
      ]
     },
     "execution_count": 37,
     "metadata": {},
     "output_type": "execute_result"
    }
   ],
   "source": [
    "# filter for only desired activation team\n",
    "trauma_dispo_adtAt_df = trauma_dispo_adt_dest_df[trauma_dispo_adt_dest_df['desired_team'] > 0]\n",
    "\n",
    "print(f\"# cases w/o desired activation team: {len(trauma_dispo_adt_dest_df) - len(trauma_dispo_adtAt_df)}\")\n",
    "print(f\"# cases w/ desired activation team: {len(trauma_dispo_adtAt_df)}\")\n",
    "\n",
    "trauma_dispo_adtAt_df.sample()"
   ]
  },
  {
   "cell_type": "code",
   "execution_count": 41,
   "id": "31586c87-194e-4b76-8397-279ad46a5070",
   "metadata": {},
   "outputs": [],
   "source": [
    "trauma_dispo_adtAt_df.to_excel('/Volumes/Research/GoldenHourData/InclusionCriteria/InclusionCriteriaData.xlsx', index=False)"
   ]
  },
  {
   "cell_type": "markdown",
   "id": "7eb23dfb-d9be-41c4-b736-ebdff20ec82b",
   "metadata": {
    "tags": []
   },
   "source": [
    "### mortality and transportation data"
   ]
  }
 ],
 "metadata": {
  "kernelspec": {
   "display_name": "Python [conda env:base] *",
   "language": "python",
   "name": "conda-base-py"
  },
  "language_info": {
   "codemirror_mode": {
    "name": "ipython",
    "version": 3
   },
   "file_extension": ".py",
   "mimetype": "text/x-python",
   "name": "python",
   "nbconvert_exporter": "python",
   "pygments_lexer": "ipython3",
   "version": "3.12.7"
  }
 },
 "nbformat": 4,
 "nbformat_minor": 5
}
