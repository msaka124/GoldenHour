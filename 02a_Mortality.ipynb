{
 "cells": [
  {
   "cell_type": "code",
   "execution_count": 1,
   "id": "dc18a311-202a-440e-b28b-0061a58fdd59",
   "metadata": {},
   "outputs": [],
   "source": [
    "import numpy as np\n",
    "import pandas as pd\n",
    "import pyreadstat\n",
    "import matplotlib.pyplot as plt"
   ]
  },
  {
   "cell_type": "markdown",
   "id": "c86f3970-22d4-4213-b378-fd98c820c6d0",
   "metadata": {},
   "source": [
    "### Data variables required"
   ]
  },
  {
   "cell_type": "markdown",
   "id": "bda13061-bdb5-414d-9ec6-9386baefd5c0",
   "metadata": {
    "tags": []
   },
   "source": [
    "### Data Info Key"
   ]
  },
  {
   "cell_type": "markdown",
   "id": "200ed09e-9492-4711-87b6-566fcff78d02",
   "metadata": {},
   "source": [
    "EMSTotalCallTimeMin (COMPUTEDELEMENTS)\n",
    "> Total dispatch to arrival hospital arrival time (main predictor): \n",
    "\n",
    "Einjury.3: (factpcrtraumacriteria)\n",
    "> trauma triage criteria high risk\n",
    "Binarize: yes (has some value here) or no \n",
    "\n",
    "Einjury4: trauma triage criteria moderate risk (factpcrinjuryriskfactor)\n",
    "> Binarize: yes (has some value here) or no \n",
    "At this point, patients should either have a 1 0, 0 1, or 0 0 for einjury3/4, corresponding to high risk, moderate risk, low risk \n",
    "Can create new column \"trauma triage criteria: high vs moderate vs low \n",
    "\n",
    "EDisposition.23 - hospital capability (PCREVENTS)\n",
    ">delineate whether TC level 1-5, or other (tabulate)\n",
    "\n",
    "EPatient.13: gender (PUB_PCREVENTS)\n",
    "\n",
    "EVitals.06: SPB (FACTPCRVITAL)\n",
    "\n",
    "Evitals.10: HR (FACTPCRVITAL)\n",
    "\n",
    "Evitals. 19-22: GCS (FACTPCRVITAL)\n",
    "\n",
    "EMedications.03-medications administered (FACTPCRMEDICATION)\n",
    "> Look at \"allowable snomed codes: and classify whether any  blood product (blood product, cryo, ffp, platelets, whole blood, packed rbc-- NOT albumin)\n",
    "\n",
    "Eoutcome.01: ED disposition (pub_pcrevents)\n",
    "> Delineate expired vs survived (discharged to other places like home)\n",
    "we may eventually need to think about delineating  ED death vs those who survived ED but died in hospital (e.g. Did these patients die because transport time was too long vs they were non survival injuries and were already destined to die before arrival...). Could you tabulate how many died in ED? \n",
    "\n",
    "Eoutcome.02: hospital disposition (pub_pcrevents)\n",
    "> Delineate expired vs survived (discharged to other places like home)\n",
    "I believe this is how we get our outcome of hospital survival  "
   ]
  },
  {
   "cell_type": "markdown",
   "id": "6c78a723-3222-4080-a683-b2e7deec2a4b",
   "metadata": {
    "tags": []
   },
   "source": [
    "### Import Inclusion + Exclusion Data"
   ]
  },
  {
   "cell_type": "code",
   "execution_count": 2,
   "id": "251353c5-67ed-4768-9252-bd0c1b79707a",
   "metadata": {},
   "outputs": [],
   "source": [
    "trauma_df = pd.read_csv('/Volumes/Research/GoldenHourData/InclusionCriteria/InclusionExclusionCriteria.csv')\n"
   ]
  },
  {
   "cell_type": "markdown",
   "id": "5d5aafb3-50c5-4c6b-bcd3-b227d24115d3",
   "metadata": {
    "tags": []
   },
   "source": [
    "### Merge Morality and Transportation Data"
   ]
  },
  {
   "cell_type": "code",
   "execution_count": null,
   "id": "a1c6278b-9287-400e-8a91-3e4761e54e89",
   "metadata": {},
   "outputs": [],
   "source": [
    "# mortality data\n",
    "pcrevents_df, _ = pyreadstat.read_sas7bdat('/Volumes/Research/GoldenHourData/NEMSISRawFiles/pub_pcrevents.sas7bdat', \n",
    "                                           usecols=[\"PcrKey\", \"eOutcome_01\", \"eOutcome_02\"])\n",
    "\n",
    "# merge mortality data\n",
    "trauma_m_df = trauma_df.merge(pcrevents_df, on='PcrKey', how='left', validate='1:1')"
   ]
  },
  {
   "cell_type": "code",
   "execution_count": null,
   "id": "4bd14187-67b6-4907-91ad-c18344d6dd4f",
   "metadata": {},
   "outputs": [],
   "source": [
    "# extract other desired properties of incidents\n",
    "CE_df, _ = pyreadstat.read_sas7bdat('/Volumes/Research/GoldenHourData/NEMSISRawFiles/computedelements.sas7bdat', \n",
    "                                    usecols=['PcrKey', 'EMSTotalCallTimeMin'])\n",
    "\n",
    "# merge transportation data\n",
    "trauma_mt_df = trauma_m_df.merge(CE_df, on='PcrKey', how='left', validate='1:1')"
   ]
  },
  {
   "cell_type": "code",
   "execution_count": null,
   "id": "eede70a3-6575-41ed-8c2d-ef2b56705d96",
   "metadata": {},
   "outputs": [],
   "source": [
    "# remove null transportation time\n",
    "null_transport_idx = trauma_mt_df['EMSTotalCallTimeMin'].isnull()\n",
    "print(f\"# Null transport: {null_transport_idx.sum()}\")\n",
    "trauma_mt_df_denullT_df = trauma_mt_df[~null_transport_idx]\n"
   ]
  },
  {
   "cell_type": "code",
   "execution_count": null,
   "id": "6af9599d-6348-4104-b783-8b64a0353c49",
   "metadata": {},
   "outputs": [],
   "source": [
    "# remove all \"Not applicable\" or \"Not recorded\" outcomes\n",
    "# eOutcome_01 - ED disposition, eOutcome_02 - hospital disposition\n",
    "ed_outcome_null_idx = (trauma_mt_df_denullT_df['eOutcome_01']== '7701001') | (trauma_mt_df_denullT_df['eOutcome_01'] == '7701003')\n",
    "hospital_outcome_null_idx = (trauma_mt_df_denullT_df['eOutcome_02']== '7701001') | (trauma_mt_df_denullT_df['eOutcome_02'] == '7701003')\n",
    "\n",
    "no_outcome_idx = ed_outcome_null_idx & hospital_outcome_null_idx\n",
    "trauma_mt_denullTO_df = trauma_mt_df_denullT_df[~no_outcome_idx]\n",
    "\n",
    "null_idx = trauma_mt_df_denullT_df['eOutcome_01'].isnull() & trauma_mt_df_denullT_df['eOutcome_02'].isnull()\n",
    "\n",
    "print(f\"# Null mortality info: {null_idx.sum()}\")\n",
    "print(f\"# No mortality info: {no_outcome_idx.sum()}\")\n",
    "print(f\"# mortality info cases: {len(trauma_mt_denullTO_df)}\")\n"
   ]
  },
  {
   "cell_type": "code",
   "execution_count": null,
   "id": "04ea8c8d-ad67-4e10-a3b3-f855b43be761",
   "metadata": {},
   "outputs": [],
   "source": [
    "# number of deceased or expired from injury\n",
    "deceased_idx = (trauma_mt_denullTO_df['eOutcome_01'] == '20') | (trauma_mt_denullTO_df['eOutcome_02'] == '20')\n",
    "print(f\"Number of deceased/expired trauma cases: {np.sum(deceased_idx)}\")\n",
    "print(f\"Number of alive trauma cases: {np.sum(~deceased_idx)}\")\n",
    "\n",
    "trauma_mt_denullTO_df['death'] = False\n",
    "trauma_mt_denullTO_df.loc[deceased_idx, 'death'] = True\n"
   ]
  },
  {
   "cell_type": "code",
   "execution_count": null,
   "id": "dc511eb2-5e35-4faf-9d4e-fe153eb7f5bb",
   "metadata": {},
   "outputs": [],
   "source": [
    "trauma_mt_denullTO_df.to_csv(\"/Volumes/Research/GoldenHourData/Mortality/Mort_Trans_trauma.csv\", index=False)"
   ]
  },
  {
   "cell_type": "markdown",
   "id": "87c53392-60c2-4117-aa7f-c3c272a2a5c1",
   "metadata": {},
   "source": [
    "### Incorporate other dependent variables"
   ]
  },
  {
   "cell_type": "markdown",
   "id": "03311278-0139-453f-931c-63ba6a266276",
   "metadata": {},
   "source": [
    "- eDisposition.23 - Hospital Capability (PUB_PCREVENTS)\n",
    "- ePatient.13 - Gender (PUB_PCREVENTS)\n",
    "- ePatient.15 - Age (PUB_PCREVENTS)\n",
    "- ePatient.14 - Race (PCRPATIENTRACEGROUP)"
   ]
  },
  {
   "cell_type": "code",
   "execution_count": null,
   "id": "1f2e0372-e4f7-411c-99c9-270c7b4dd562",
   "metadata": {},
   "outputs": [],
   "source": [
    "trauma_mt_denullTO_df = pd.read_csv(\"/Volumes/Research/GoldenHourData/Mortality/Mort_Trans_trauma.csv\")"
   ]
  },
  {
   "cell_type": "code",
   "execution_count": null,
   "id": "5aa2f3a0-f8b2-480e-8b93-9d146c6d53e9",
   "metadata": {},
   "outputs": [],
   "source": [
    "pcrevents_df, _ = pyreadstat.read_sas7bdat('/Volumes/Research/GoldenHourData/NEMSISRawFiles/pub_pcrevents.sas7bdat', \n",
    "                                           usecols=[\"PcrKey\", \"eDisposition_23\", \"ePatient_13\"])"
   ]
  },
  {
   "cell_type": "code",
   "execution_count": null,
   "id": "94ce7629-dfd9-4caf-a828-acf2cd40b5bd",
   "metadata": {},
   "outputs": [],
   "source": [
    "# merge hospital capability, gender age\n",
    "trauma_HGA_df = trauma_mt_denullTO_df.merge(pcrevents_df, on='PcrKey', how='left', validate='1:1')"
   ]
  },
  {
   "cell_type": "code",
   "execution_count": null,
   "id": "63d1e946-7f9e-449e-bc66-1385e7f1c9d4",
   "metadata": {},
   "outputs": [],
   "source": [
    "# convert gender\n",
    "mapping_dict = {\n",
    "    \"9906001\":'Female',\n",
    "    \"9906003\":'Male'\n",
    "}\n",
    "\n",
    "trauma_HGA_df['ePatient_13_c'] = trauma_HGA_df['ePatient_13'].map(mapping_dict)\n",
    "\n",
    "trauma_HGA_df.loc[trauma_HGA_df['ePatient_13_c'] == '9906005', 'ePatient_13_c'] = np.nan\n"
   ]
  },
  {
   "cell_type": "code",
   "execution_count": null,
   "id": "75a015b8-7503-4364-854c-fd09fc55e933",
   "metadata": {},
   "outputs": [],
   "source": [
    "trauma_HGA_df['ePatient_13_c'].value_counts()"
   ]
  },
  {
   "cell_type": "code",
   "execution_count": null,
   "id": "b58146bc-5a94-4d12-9b64-f6f19252e90a",
   "metadata": {},
   "outputs": [],
   "source": [
    "trauma_HGA_df['ePatient_13_c'].isnull().sum()"
   ]
  },
  {
   "cell_type": "code",
   "execution_count": null,
   "id": "9c809eab-0246-4f2a-b0e8-4ecfbaaae2fb",
   "metadata": {},
   "outputs": [],
   "source": [
    "# convert hospital capability\n",
    "mapping_dict = {\n",
    "    \"9908001\" :'Behavioral Health',\n",
    "    \"9908003\" :'Burn Center',\n",
    "    \"9908005\" :'Critical Access Hospital',\n",
    "    \"9908007\" :'Hospital (General)',\n",
    "    \"9908009\" :'Neonatal Center',\n",
    "    \"9908011\" :'Pediatric Center',\n",
    "    \"9908017\" :'Stroke Center',\n",
    "    \"9908019\" :'Rehab Center',\n",
    "    '9908021' :'Trauma Center Level 1',\n",
    "    '9908023' :'Trauma Center Level 2',\n",
    "    '9908025' :'Trauma Center Level 3',\n",
    "    '9908027' :'Trauma Center Level 4',\n",
    "    '9908029' :'Trauma Center Level 5',\n",
    "    '9908031' :'Cardiac-STEMI/PCI Capable',\n",
    "    '9908033' :'Cardiac-STEMI/PCI Capable (24/7)',\n",
    "    '9908035' :'Cardiac-STEMI/Non-PCI Capable'\n",
    "}\n",
    "\n",
    "trauma_HGA_df['eDisposition_23_c'] = trauma_HGA_df['eDisposition_23'].map(mapping_dict)\n",
    "\n",
    "trauma_HGA_df.loc[trauma_HGA_df['eDisposition_23'] == '7701001', 'eDisposition_23_c'] = np.nan\n",
    "trauma_HGA_df.loc[trauma_HGA_df['eDisposition_23'] == '7701003', 'eDisposition_23_c'] = np.nan"
   ]
  },
  {
   "cell_type": "code",
   "execution_count": null,
   "id": "aca051ed-dee3-4139-be0d-e0aed029bfe5",
   "metadata": {
    "scrolled": true,
    "tags": []
   },
   "outputs": [],
   "source": [
    "trauma_HGA_df['eDisposition_23_c'].value_counts()"
   ]
  },
  {
   "cell_type": "code",
   "execution_count": null,
   "id": "7ce210c9-a2d7-4051-876f-4ebc1b6cdaca",
   "metadata": {},
   "outputs": [],
   "source": [
    "# organize disposition site based on the following cateogires\n",
    "# categorical variable. classify  as level 1 or 2 vs level 3 to 5 vs not trauma center \n",
    "\n",
    "mapping_dict = {\n",
    "    \"9908001\" :'not trauma center',\n",
    "    \"9908003\" :'not trauma center',\n",
    "    \"9908005\" :'not trauma center',\n",
    "    \"9908007\" :'not trauma center',\n",
    "    \"9908009\" :'not trauma center',\n",
    "    \"9908011\" :'not trauma center',\n",
    "    \"9908017\" :'not trauma center',\n",
    "    \"9908019\" :'not trauma center',\n",
    "    '9908021' :'Trauma Center Level 1-2',\n",
    "    '9908023' :'Trauma Center Level 1-2',\n",
    "    '9908025' :'Trauma Center Level 3-5',\n",
    "    '9908027' :'Trauma Center Level 3-5',\n",
    "    '9908029' :'Trauma Center Level 3-5',\n",
    "    '9908031' :'not trauma center',\n",
    "    '9908033' :'not trauma center',\n",
    "    '9908035' :'not trauma center'\n",
    "}\n",
    "\n",
    "trauma_HGA_df['eDisposition_23_c_group'] = trauma_HGA_df['eDisposition_23'].map(mapping_dict)\n",
    "\n",
    "trauma_HGA_df.loc[trauma_HGA_df['eDisposition_23'] == '7701001', 'eDisposition_23_c_group'] = np.nan\n",
    "trauma_HGA_df.loc[trauma_HGA_df['eDisposition_23'] == '7701003', 'eDisposition_23_c_group'] = np.nan"
   ]
  },
  {
   "cell_type": "code",
   "execution_count": null,
   "id": "a33c8fd5-eb7e-40e6-bc6a-3181d4fc67e2",
   "metadata": {},
   "outputs": [],
   "source": [
    "trauma_HGA_df['eDisposition_23_c_group'].value_counts()"
   ]
  },
  {
   "cell_type": "code",
   "execution_count": null,
   "id": "e6329721-599a-4ce1-b8e7-bbbb6cea7332",
   "metadata": {},
   "outputs": [],
   "source": [
    "trauma_HGA_df['eDisposition_23_c_group'].isnull().sum()"
   ]
  },
  {
   "cell_type": "code",
   "execution_count": null,
   "id": "f25e5b9e-c26f-4371-8025-67c5bcfeb23b",
   "metadata": {},
   "outputs": [],
   "source": [
    "trauma_HGA_df.to_csv(\"Data/Mortality/Mort_Trans_trauma_FINAL.csv\", index=False)"
   ]
  },
  {
   "cell_type": "markdown",
   "id": "53e5335d-af94-4f6c-abf0-8224240921bb",
   "metadata": {},
   "source": [
    "### Format data for R RDD"
   ]
  },
  {
   "cell_type": "markdown",
   "id": "7e080101-1579-4a64-bb94-5aecaacf6edf",
   "metadata": {},
   "source": [
    "- age\n",
    "- travel_time\n",
    "- RTS"
   ]
  },
  {
   "cell_type": "code",
   "execution_count": null,
   "id": "35cdbfba-4448-4444-a180-2a41cd14584a",
   "metadata": {},
   "outputs": [],
   "source": [
    "trauma_HGA_df = pd.read_csv(\"Data/Mortality/Mort_Trans_trauma_FINAL.csv\")"
   ]
  },
  {
   "cell_type": "code",
   "execution_count": null,
   "id": "b4615c12-b253-4af8-a468-1c4f0e091c65",
   "metadata": {},
   "outputs": [],
   "source": [
    "keep_cols = ['EMSTotalCallTimeMin', 'ePatient_15','RTS', 'eDisposition_23_c_group', 'ePatient_13_c', 'death']\n",
    "trauma_HGA_filt_df = trauma_HGA_df[keep_cols]"
   ]
  },
  {
   "cell_type": "code",
   "execution_count": null,
   "id": "5a8ab8f6-f6f7-4d4f-81fb-c07884bb1e10",
   "metadata": {},
   "outputs": [],
   "source": [
    "trauma_HGA_filt_df.sample(2)"
   ]
  },
  {
   "cell_type": "code",
   "execution_count": null,
   "id": "f85f1e38-ea6c-4f68-a779-cba9cd739f80",
   "metadata": {},
   "outputs": [],
   "source": [
    "trauma_HGA_filt_df = trauma_HGA_filt_df.rename(columns={\"EMSTotalCallTimeMin\": \"travel_time\", \n",
    "                                   \"ePatient_15\": \"age\",\n",
    "                                  \"RTS\": \"RTS\", \n",
    "                                   \"eDisposition_23_c_group\": \"trauma_center\",\n",
    "                                  \"ePatient_13_c\": \"gender\", \n",
    "                                   \"death\": \"mortality\"})\n"
   ]
  },
  {
   "cell_type": "code",
   "execution_count": null,
   "id": "12d9368b-52bd-4388-a2ca-771d7ffa1e17",
   "metadata": {},
   "outputs": [],
   "source": [
    "trauma_HGA_filt_df.sample(2)"
   ]
  },
  {
   "cell_type": "code",
   "execution_count": null,
   "id": "8bd61c02-3d9a-4d02-8cb6-22b5c9f12ab4",
   "metadata": {},
   "outputs": [],
   "source": [
    "trauma_HGA_filt_df.to_csv(\"Data/Mortality/Mort_Trans_trauma_FINAL_RDDforR.csv\", index=False)"
   ]
  },
  {
   "cell_type": "code",
   "execution_count": null,
   "id": "21c153ba-1086-4a92-a310-76b29665d555",
   "metadata": {},
   "outputs": [],
   "source": []
  },
  {
   "cell_type": "markdown",
   "id": "48f505a8-08fd-4472-93c9-8a4003fc59e4",
   "metadata": {},
   "source": [
    "### Assess Number of Mortality Cases"
   ]
  },
  {
   "cell_type": "markdown",
   "id": "23431596-7f5c-4f83-9c9c-990223a0b258",
   "metadata": {},
   "source": [
    "https://journals.plos.org/plosone/article?id=10.1371/journal.pone.0276755\n",
    "\n",
    "https://pmc.ncbi.nlm.nih.gov/articles/PMC7001471/\n",
    "\n",
    "- May need to take predictive modeling approach (rather than inference modeling). The function has a main predictor of transport time (continuous variable) and other confounders and effect modifiers (effect modifiers: I think would be ISS, GCS, perhaps blunt vs penetrating moi), outcome being hospital mortality\n",
    "- Use regression discontinuity to find optimal threshold at which mortality is minimized (may need to inverse label as survival to maximize outcome) \n",
    "- Apply threshold, using Bayesian methods, on a separate dataset (e.g. Insert model that has same covariate values otherwise but we change the transport time, to see how many potential more raw # of lives we can have saved and how many yeears of potential life lost we could have saved <- this will be the kicker \n",
    "\n",
    "Check out AAST 2024 podium paper abstracts (#1-6 are the \"top\" abstracts)\n",
    "https://www.aast.org/annual-meeting/program"
   ]
  },
  {
   "cell_type": "markdown",
   "id": "ffd162fd-c775-4ba0-ab8c-2bd8d9a70ad8",
   "metadata": {
    "tags": []
   },
   "source": [
    "### Graph RTS with transportation time"
   ]
  },
  {
   "cell_type": "code",
   "execution_count": null,
   "id": "ffbb5500-938a-40fc-8947-122392c53be5",
   "metadata": {},
   "outputs": [],
   "source": [
    "trauma_mt_denullTO_df"
   ]
  },
  {
   "cell_type": "code",
   "execution_count": null,
   "id": "c1501d26-8775-4e15-b2d3-8b118a50c4e3",
   "metadata": {},
   "outputs": [],
   "source": [
    "death_idx = trauma_mt_denullTO_df['death']\n",
    "# colors = np.where(death_idx, 'red', 'blue')\n",
    "\n",
    "\n",
    "plt.scatter(trauma_mt_denullTO_df.loc[~death_idx, 'EMSTotalCallTimeMin'], trauma_mt_denullTO_df.loc[~death_idx, 'RTS'],\n",
    "           alpha=0.07, c='blue')\n",
    "plt.scatter(trauma_mt_denullTO_df.loc[death_idx, 'EMSTotalCallTimeMin'], trauma_mt_denullTO_df.loc[death_idx, 'RTS'],\n",
    "           alpha=0.2, c='red')\n",
    "plt.ylabel(\"RTS\"); plt.xlabel(\"Transportation Time (Min)\")\n",
    "plt.show()"
   ]
  },
  {
   "cell_type": "markdown",
   "id": "9c332f32-a529-4864-a908-354d921e666e",
   "metadata": {
    "tags": []
   },
   "source": [
    "### Make bins for percent mortality"
   ]
  },
  {
   "cell_type": "code",
   "execution_count": null,
   "id": "e7300ea2-1475-49ce-abda-64a00906b280",
   "metadata": {},
   "outputs": [],
   "source": [
    "max_time = trauma_mt_denullTO_df['EMSTotalCallTimeMin'].max()"
   ]
  },
  {
   "cell_type": "code",
   "execution_count": null,
   "id": "aa531ea5-2039-49a2-ab21-a9c948c602f0",
   "metadata": {},
   "outputs": [],
   "source": [
    "trans_time = trauma_mt_denullTO_df['EMSTotalCallTimeMin']\n",
    "\n",
    "bin_size = 10\n",
    "bin_limits = np.arange(0,max_time,5)\n",
    "perc_mort_list = []\n",
    "\n",
    "for lower_lim in bin_limits:\n",
    "    upper_lim = lower_lim + bin_size\n",
    "    cond = (trans_time >= lower_lim) & (trans_time < upper_lim)\n",
    "    num_death = trauma_mt_denullTO_df.loc[cond, 'death'].sum()\n",
    "    perc_mort = 100 * num_death / len(trauma_mt_denullTO_df)\n",
    "    perc_mort_list.append(perc_mort)\n",
    "\n",
    "perc_mort_list = np.array(perc_mort_list)"
   ]
  },
  {
   "cell_type": "code",
   "execution_count": null,
   "id": "576c5fc9-7b29-48a1-b735-641564eab67e",
   "metadata": {},
   "outputs": [],
   "source": [
    "fig, ax = plt.subplots(figsize=(7,5))\n",
    "plt.bar(bin_limits, perc_mort_list, width=bin_size/2)\n",
    "plt.xlim([0,200])\n",
    "plt.ylabel('Percent Mortality (%)'); plt.xlabel(\"Transportation time (min)\")\n",
    "plt.title(\"Trauma Mortality with Transportation Time\")\n",
    "plt.axvline(60, c='r')\n",
    "plt.show()\n"
   ]
  },
  {
   "cell_type": "markdown",
   "id": "1cb982ee-bb60-4e79-a901-36053554c89b",
   "metadata": {},
   "source": [
    "### Logistic Regression Model Statistical Test"
   ]
  },
  {
   "cell_type": "code",
   "execution_count": null,
   "id": "7678cf99-ad4a-45aa-b8b7-40b298a5e378",
   "metadata": {},
   "outputs": [],
   "source": [
    "# trauma_HGA_df = pd.read_csv(\"Data/Mortality/Mort_Trans_trauma_FINAL.csv\")\n",
    "trauma_HGA_df = pd.read_csv(\"Data/Mortality/Mort_Trans_trauma_FINAL_RDDforR.csv\")"
   ]
  },
  {
   "cell_type": "code",
   "execution_count": null,
   "id": "80eaf1d3-8631-4431-a63e-28b08c3f4ec6",
   "metadata": {},
   "outputs": [],
   "source": [
    "trauma_HGA_df.sample(2)"
   ]
  },
  {
   "cell_type": "code",
   "execution_count": null,
   "id": "1b9b4886-8709-4eff-8981-dd7ff00818ba",
   "metadata": {},
   "outputs": [],
   "source": [
    "trauma_HGA_df['mortaltiy_c'] = 0\n",
    "trauma_HGA_df.loc[trauma_HGA_df['mortality'], 'mortaltiy_c'] = 1"
   ]
  },
  {
   "cell_type": "code",
   "execution_count": null,
   "id": "a109ecbf-73a7-4ccf-9865-d42c2a1e14e9",
   "metadata": {},
   "outputs": [],
   "source": [
    "dependent_var = ['mortaltiy_c']\n",
    "cont_independent_var = ['travel_time', 'RTS', 'age']\n",
    "\n",
    "cat_independent_var = ['trauma_center', 'gender']\n",
    "model_data = trauma_HGA_df[dependent_var+cont_independent_var+cat_independent_var]\n",
    "\n",
    "model_data = model_data.dropna()\n",
    "print(f\"% TCs remaining: {100*len(model_data)/len(trauma_HGA_df)}\")"
   ]
  },
  {
   "cell_type": "code",
   "execution_count": null,
   "id": "bdee9eff-f99d-474a-98db-764eaf1bc8ca",
   "metadata": {},
   "outputs": [],
   "source": [
    "model_data['trauma_center'].value_counts()"
   ]
  },
  {
   "cell_type": "code",
   "execution_count": null,
   "id": "d4eac285-0cbc-4745-b247-99772ed318a6",
   "metadata": {},
   "outputs": [],
   "source": [
    "import statsmodels.formula.api as smf\n",
    "\n",
    "formula = dependent_var[0] + \" ~ \" + \" + \".join(cont_independent_var) + \" + \" + \" + \".join([f\"C({x})\" for x in cat_independent_var])\n",
    "formula = formula.replace(\" C(trauma_center)\",\" C(trauma_center, Treatment(reference='not trauma center'))\")\n",
    "formula\n"
   ]
  },
  {
   "cell_type": "code",
   "execution_count": null,
   "id": "06bbac8b-1167-47a2-baca-bb12430baba2",
   "metadata": {},
   "outputs": [],
   "source": [
    "model = smf.logit(formula, data=model_data)\n",
    "res = model.fit()\n"
   ]
  },
  {
   "cell_type": "code",
   "execution_count": null,
   "id": "3df31037-5272-435d-996a-3b188bd195ca",
   "metadata": {},
   "outputs": [],
   "source": [
    "print(res.summary())"
   ]
  },
  {
   "cell_type": "code",
   "execution_count": null,
   "id": "158fea3e-e646-4b38-a6eb-eb876c8df89d",
   "metadata": {},
   "outputs": [],
   "source": [
    "data = {'coef': model_fit_regularized.params,\n",
    "        'std err': model_fit_regularized.bse,\n",
    "        'P>|t|': model_fit_regularized.pvalues,\n",
    "        '[0.025': model_fit_regularized.conf_int()[0],\n",
    "        '0.975]': model_fit_regularized.conf_int()[1]}\n",
    "\n",
    "result = pd.DataFrame(data)"
   ]
  },
  {
   "cell_type": "code",
   "execution_count": null,
   "id": "7091dd75-b1c7-41d0-bfcf-51b10ef126f6",
   "metadata": {},
   "outputs": [],
   "source": [
    "result"
   ]
  },
  {
   "cell_type": "markdown",
   "id": "42fafe7c-2e30-4cbb-a439-768221aee6b3",
   "metadata": {
    "tags": []
   },
   "source": [
    "### Logistic Regression\n"
   ]
  },
  {
   "cell_type": "code",
   "execution_count": null,
   "id": "9f0f0fdb-608d-47fd-9f28-0c60ce239083",
   "metadata": {},
   "outputs": [],
   "source": [
    "from sklearn.model_selection import train_test_split\n",
    "from sklearn.linear_model import LogisticRegression\n",
    "from sklearn.metrics import confusion_matrix, roc_curve, roc_auc_score\n",
    "import seaborn as sns"
   ]
  },
  {
   "cell_type": "code",
   "execution_count": null,
   "id": "3ce54b4d-f7d7-472c-92bd-6e60ae63bd46",
   "metadata": {},
   "outputs": [],
   "source": [
    "X = trauma_mt_denullTO_df['EMSTotalCallTimeMin'].to_numpy().reshape(-1, 1)\n",
    "y = trauma_mt_denullTO_df['death'].to_numpy()\n",
    "\n",
    "X_train, X_test, y_train, y_test = train_test_split(X, y, \n",
    "                                                    test_size=0.33, random_state=42)\n",
    "\n"
   ]
  },
  {
   "cell_type": "code",
   "execution_count": null,
   "id": "676a63f6-2016-4e5f-9d47-3eb5007a5b46",
   "metadata": {
    "scrolled": true,
    "tags": []
   },
   "outputs": [],
   "source": [
    "# Train logistic regression model\n",
    "model = LogisticRegression()\n",
    "model.fit(X_train, y_train)\n",
    "\n",
    "# Predict probabilities on the test set\n",
    "y_prob = model.predict_proba(X_test)[:, 1]\n",
    "# Predict classes on the test set\n",
    "y_pred = model.predict(X_test)"
   ]
  },
  {
   "cell_type": "code",
   "execution_count": null,
   "id": "95205caa-a629-4ceb-a2ae-9209c3a563d7",
   "metadata": {},
   "outputs": [],
   "source": [
    "# Generate points for the prediction line\n",
    "X_gen = np.linspace(0, 200, 300)[:, np.newaxis]\n",
    "y_gen = model.predict_proba(X_gen)[:, 1]  # Probability of mortality\n",
    "\n",
    "# Plot data points\n",
    "plt.scatter(X_train, y_train, color='black', label=\"Data points\", s=3, alpha=0.3)\n",
    "\n",
    "# Plot logistic curve\n",
    "plt.plot(X_gen, y_gen, color='blue', linewidth=2, label=\"Logistic curve\")\n",
    "\n",
    "# Labels and title\n",
    "plt.xlabel('Transportation Time')\n",
    "plt.ylabel('Mortality Probability')\n",
    "plt.title('Logistic Regression of Mortality on Transportation Time')\n",
    "plt.xlim([0,200])\n",
    "plt.legend()\n",
    "plt.show()"
   ]
  },
  {
   "cell_type": "code",
   "execution_count": null,
   "id": "3c276bef-7b3b-481b-8130-3eae728a0008",
   "metadata": {},
   "outputs": [],
   "source": [
    "# Confusion matrix\n",
    "cm = confusion_matrix(y_test, y_pred)\n",
    "print(\"Confusion Matrix:\")\n",
    "print(cm)"
   ]
  },
  {
   "cell_type": "code",
   "execution_count": null,
   "id": "18c0c1e5-18c9-4b50-b659-37a688c70395",
   "metadata": {},
   "outputs": [],
   "source": [
    "# Plot confusion matrix heatmap\n",
    "plt.figure(figsize=(8, 6))\n",
    "sns.heatmap(cm, annot=True, fmt=\"d\", cmap=\"Blues\", cbar=False,\n",
    "            xticklabels=[\"Predicted Negative\", \"Predicted Positive\"],\n",
    "            yticklabels=[\"Actual Negative\", \"Actual Positive\"])\n",
    "plt.title(\"Confusion Matrix\")\n",
    "plt.xlabel(\"Predicted\")\n",
    "plt.ylabel(\"Actual\")\n",
    "plt.show()"
   ]
  },
  {
   "cell_type": "code",
   "execution_count": null,
   "id": "2311b2c6-e06d-4840-847e-e9b1002a38c3",
   "metadata": {},
   "outputs": [],
   "source": [
    "# ROC curve\n",
    "fpr, tpr, thresholds = roc_curve(y_test, y_prob)\n",
    "\n",
    "# AUC score\n",
    "roc_auc = roc_auc_score(y_test, y_prob)\n",
    "print(f\"AUC: {roc_auc}\")\n",
    "\n",
    "# Plot ROC curve\n",
    "plt.figure(figsize=(8, 6))\n",
    "plt.plot(fpr, tpr, color='darkorange', lw=2, label=f'ROC curve (area = {roc_auc:.2f})')\n",
    "plt.plot([0, 1], [0, 1], color='navy', lw=2, linestyle='--')\n",
    "plt.xlim([0.0, 1.0])\n",
    "plt.ylim([0.0, 1.05])\n",
    "plt.xlabel('False Positive Rate')\n",
    "plt.ylabel('True Positive Rate')\n",
    "plt.title('Receiver Operating Characteristic (ROC)')\n",
    "plt.legend(loc=\"lower right\")\n",
    "plt.show()"
   ]
  },
  {
   "cell_type": "code",
   "execution_count": null,
   "id": "edb8be37-d8bc-46b1-9ae7-eff85d7e4feb",
   "metadata": {},
   "outputs": [],
   "source": []
  }
 ],
 "metadata": {
  "kernelspec": {
   "display_name": "Python 3 (ipykernel)",
   "language": "python",
   "name": "python3"
  },
  "language_info": {
   "codemirror_mode": {
    "name": "ipython",
    "version": 3
   },
   "file_extension": ".py",
   "mimetype": "text/x-python",
   "name": "python",
   "nbconvert_exporter": "python",
   "pygments_lexer": "ipython3",
   "version": "3.9.6"
  }
 },
 "nbformat": 4,
 "nbformat_minor": 5
}
