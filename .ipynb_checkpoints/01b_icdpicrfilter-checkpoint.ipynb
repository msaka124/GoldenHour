{
 "cells": [
  {
   "cell_type": "code",
   "execution_count": 2,
   "id": "be30c736-7021-411a-8065-072127833571",
   "metadata": {},
   "outputs": [],
   "source": [
    "import numpy as np\n",
    "import pandas as pd\n",
    "import pyreadstat\n",
    "import matplotlib.pyplot as plt"
   ]
  },
  {
   "cell_type": "code",
   "execution_count": 4,
   "id": "56a5611a-1845-420f-99d9-13a44632277e",
   "metadata": {},
   "outputs": [
    {
     "data": {
      "text/html": [
       "<div>\n",
       "<style scoped>\n",
       "    .dataframe tbody tr th:only-of-type {\n",
       "        vertical-align: middle;\n",
       "    }\n",
       "\n",
       "    .dataframe tbody tr th {\n",
       "        vertical-align: top;\n",
       "    }\n",
       "\n",
       "    .dataframe thead th {\n",
       "        text-align: right;\n",
       "    }\n",
       "</style>\n",
       "<table border=\"1\" class=\"dataframe\">\n",
       "  <thead>\n",
       "    <tr style=\"text-align: right;\">\n",
       "      <th></th>\n",
       "      <th>PcrKey</th>\n",
       "      <th>eInjury_01</th>\n",
       "    </tr>\n",
       "  </thead>\n",
       "  <tbody>\n",
       "    <tr>\n",
       "      <th>0</th>\n",
       "      <td>225613981.0</td>\n",
       "      <td>Y04</td>\n",
       "    </tr>\n",
       "    <tr>\n",
       "      <th>1</th>\n",
       "      <td>225614041.0</td>\n",
       "      <td>W54.0</td>\n",
       "    </tr>\n",
       "    <tr>\n",
       "      <th>2</th>\n",
       "      <td>225614098.0</td>\n",
       "      <td>T14.90</td>\n",
       "    </tr>\n",
       "    <tr>\n",
       "      <th>3</th>\n",
       "      <td>225614106.0</td>\n",
       "      <td>X78.9</td>\n",
       "    </tr>\n",
       "    <tr>\n",
       "      <th>4</th>\n",
       "      <td>225614142.0</td>\n",
       "      <td>V49.9</td>\n",
       "    </tr>\n",
       "    <tr>\n",
       "      <th>...</th>\n",
       "      <td>...</td>\n",
       "      <td>...</td>\n",
       "    </tr>\n",
       "    <tr>\n",
       "      <th>54402504</th>\n",
       "      <td>289285701.0</td>\n",
       "      <td>7701001</td>\n",
       "    </tr>\n",
       "    <tr>\n",
       "      <th>54402505</th>\n",
       "      <td>289285731.0</td>\n",
       "      <td>7701003</td>\n",
       "    </tr>\n",
       "    <tr>\n",
       "      <th>54402506</th>\n",
       "      <td>289285905.0</td>\n",
       "      <td>7701003</td>\n",
       "    </tr>\n",
       "    <tr>\n",
       "      <th>54402507</th>\n",
       "      <td>289286356.0</td>\n",
       "      <td>7701003</td>\n",
       "    </tr>\n",
       "    <tr>\n",
       "      <th>54402508</th>\n",
       "      <td>289286577.0</td>\n",
       "      <td>7701003</td>\n",
       "    </tr>\n",
       "  </tbody>\n",
       "</table>\n",
       "<p>54402509 rows × 2 columns</p>\n",
       "</div>"
      ],
      "text/plain": [
       "               PcrKey eInjury_01\n",
       "0         225613981.0        Y04\n",
       "1         225614041.0      W54.0\n",
       "2         225614098.0     T14.90\n",
       "3         225614106.0      X78.9\n",
       "4         225614142.0      V49.9\n",
       "...               ...        ...\n",
       "54402504  289285701.0    7701001\n",
       "54402505  289285731.0    7701003\n",
       "54402506  289285905.0    7701003\n",
       "54402507  289286356.0    7701003\n",
       "54402508  289286577.0    7701003\n",
       "\n",
       "[54402509 rows x 2 columns]"
      ]
     },
     "execution_count": 4,
     "metadata": {},
     "output_type": "execute_result"
    }
   ],
   "source": [
    "injury_df, _ = pyreadstat.read_sas7bdat('/Volumes/Research/GoldenHourData/NEMSISRawFiles/factpcrcauseofinjury.sas7bdat')\n",
    "injury_df"
   ]
  },
  {
   "cell_type": "code",
   "execution_count": 6,
   "id": "cc3031fb-e1dd-4fde-b646-9e99c8a5ee57",
   "metadata": {},
   "outputs": [
    {
     "name": "stderr",
     "output_type": "stream",
     "text": [
      "IOPub data rate exceeded.\n",
      "The Jupyter server will temporarily stop sending output\n",
      "to the client in order to avoid crashing it.\n",
      "To change this limit, set the config variable\n",
      "`--ServerApp.iopub_data_rate_limit`.\n",
      "\n",
      "Current values:\n",
      "ServerApp.iopub_data_rate_limit=1000000.0 (bytes/sec)\n",
      "ServerApp.rate_limit_window=3.0 (secs)\n",
      "\n",
      "IOStream.flush timed out\n"
     ]
    }
   ],
   "source": [
    "pcrkey_dict = {}\n",
    "for index, row in injury_df.iterrows():\n",
    "    Pcrkey = row['PcrKey']\n",
    "    ICDcode = row['eInjury_01']\n",
    "    if Pcrkey not in pcrkey_dict:\n",
    "        pcrkey_dict[Pcrkey] = []\n",
    "    pcrkey_dict[Pcrkey].append(ICDcode)\n"
   ]
  },
  {
   "cell_type": "code",
   "execution_count": 8,
   "id": "a155e896-c07b-425f-9963-c09494f539bf",
   "metadata": {},
   "outputs": [
    {
     "name": "stdout",
     "output_type": "stream",
     "text": [
      "         pcrkey       dx1   dx2   dx3   dx4   dx5\n",
      "0   225613981.0       Y04  None  None  None  None\n",
      "1   225614041.0     W54.0  None  None  None  None\n",
      "2   225614098.0    T14.90  None  None  None  None\n",
      "3   225614106.0     X78.9  None  None  None  None\n",
      "4   225614142.0     V49.9  None  None  None  None\n",
      "5   225614191.0     V47.5  None  None  None  None\n",
      "6   225614192.0       W19  None  None  None  None\n",
      "7   225614208.0     V49.9  None  None  None  None\n",
      "8   225614234.0  W19.XXXA  None  None  None  None\n",
      "9   225614307.0       Y04  None  None  None  None\n",
      "10  225614317.0       Y08   Y00  None  None  None\n",
      "11  225614395.0       Y04  None  None  None  None\n",
      "12  225614399.0  W19.XXXA  None  None  None  None\n",
      "13  225614434.0       W06  None  None  None  None\n",
      "14  225614480.0       Y00  None  None  None  None\n",
      "15  225614486.0  X99.9XXA  None  None  None  None\n",
      "16  225614597.0       W01  None  None  None  None\n",
      "17  225614602.0       W19  None  None  None  None\n",
      "18  225614614.0     V49.9  None  None  None  None\n",
      "19  225614615.0  W19.XXXA  None  None  None  None\n"
     ]
    }
   ],
   "source": [
    "#format for export to R by combining codes into a single string for each pcrkey\n",
    "combined_df = pd.DataFrame.from_dict(pcrkey_dict, orient='index').reset_index()\n",
    "combined_df.columns = ['pcrkey'] + [f'dx{i+1}' for i in range(combined_df.shape[1] - 1)]\n",
    "\n",
    "print(combined_df.head(20))"
   ]
  },
  {
   "cell_type": "code",
   "execution_count": 11,
   "id": "73186434-9a34-488d-a7f5-9b9f5a55d24c",
   "metadata": {},
   "outputs": [],
   "source": [
    "#export\n",
    "combined_df.to_csv('/Volumes/Research/GoldenHourData/InclusionCriteria/pcrkey_icdcodes_combined.csv', index = False)"
   ]
  },
  {
   "cell_type": "code",
   "execution_count": null,
   "id": "25f87f61-0329-4e88-8c02-95a9af8bd830",
   "metadata": {},
   "outputs": [],
   "source": []
  }
 ],
 "metadata": {
  "kernelspec": {
   "display_name": "Python [conda env:base] *",
   "language": "python",
   "name": "conda-base-py"
  },
  "language_info": {
   "codemirror_mode": {
    "name": "ipython",
    "version": 3
   },
   "file_extension": ".py",
   "mimetype": "text/x-python",
   "name": "python",
   "nbconvert_exporter": "python",
   "pygments_lexer": "ipython3",
   "version": "3.12.7"
  }
 },
 "nbformat": 4,
 "nbformat_minor": 5
}
